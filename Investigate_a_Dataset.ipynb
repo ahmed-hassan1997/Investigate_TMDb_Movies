{
  "nbformat": 4,
  "nbformat_minor": 0,
  "metadata": {
    "kernelspec": {
      "display_name": "Python 3",
      "language": "python",
      "name": "python3"
    },
    "language_info": {
      "codemirror_mode": {
        "name": "ipython",
        "version": 3
      },
      "file_extension": ".py",
      "mimetype": "text/x-python",
      "name": "python",
      "nbconvert_exporter": "python",
      "pygments_lexer": "ipython3",
      "version": "3.6.3"
    },
    "colab": {
      "name": "Investigate_a_Dataset.ipynb",
      "provenance": [],
      "include_colab_link": true
    }
  },
  "cells": [
    {
      "cell_type": "markdown",
      "metadata": {
        "id": "view-in-github",
        "colab_type": "text"
      },
      "source": [
        "<a href=\"https://colab.research.google.com/github/ahmed-hassan1997/Investigate_TMDb_Movies/blob/master/Investigate_a_Dataset.ipynb\" target=\"_parent\"><img src=\"https://colab.research.google.com/assets/colab-badge.svg\" alt=\"Open In Colab\"/></a>"
      ]
    },
    {
      "cell_type": "markdown",
      "metadata": {
        "id": "Csr-pSRDihGn",
        "colab_type": "text"
      },
      "source": [
        "> **Tip**: Welcome to the Investigate a Dataset project! You will find tips in quoted sections like this to help organize your approach to your investigation. Before submitting your project, it will be a good idea to go back through your report and remove these sections to make the presentation of your work as tidy as possible. First things first, you might want to double-click this Markdown cell and change the title so that it reflects your dataset and investigation.\n",
        "\n",
        "# Project: Investigate a Dataset (Replace this with something more specific!)\n",
        "\n",
        "## Table of Contents\n",
        "<ul>\n",
        "<li><a href=\"#intro\">Introduction</a></li>\n",
        "<li><a href=\"#wrangling\">Data Wrangling</a></li>\n",
        "<li><a href=\"#eda\">Exploratory Data Analysis</a></li>\n",
        "<li><a href=\"#conclusions\">Conclusions</a></li>\n",
        "</ul>"
      ]
    },
    {
      "cell_type": "markdown",
      "metadata": {
        "id": "W9axOjWbihGu",
        "colab_type": "text"
      },
      "source": [
        "<a id='intro'></a>\n",
        "## Introduction\n",
        "\n",
        "> **Tip**: In this section of the report, provide a brief introduction to the dataset you've selected for analysis. At the end of this section, describe the questions that you plan on exploring over the course of the report. Try to build your report around the analysis of at least one dependent variable and three independent variables. If you're not sure what questions to ask, then make sure you familiarize yourself with the dataset, its variables and the dataset context for ideas of what to explore.\n",
        "\n",
        "> If you haven't yet selected and downloaded your data, make sure you do that first before coming back here. In order to work with the data in this workspace, you also need to upload it to the workspace. To do so, click on the jupyter icon in the upper left to be taken back to the workspace directory. There should be an 'Upload' button in the upper right that will let you add your data file(s) to the workspace. You can then click on the .ipynb file name to come back here."
      ]
    },
    {
      "cell_type": "markdown",
      "metadata": {
        "id": "I9T8WuEYQZ6i",
        "colab_type": "text"
      },
      "source": [
        "## include important libraries for data analysis "
      ]
    },
    {
      "cell_type": "code",
      "metadata": {
        "id": "MIuup4eyihG2",
        "colab_type": "code",
        "colab": {}
      },
      "source": [
        "# Use this cell to set up import statements for all of the packages that you\n",
        "#   plan to use.\n",
        "\n",
        "# Remember to include a 'magic word' so that your visualizations are plotted\n",
        "#   inline with the notebook. See this page for more:\n",
        "#   http://ipython.readthedocs.io/en/stable/interactive/magics.html\n",
        "\n",
        "import numpy as np \n",
        "import pandas as pd\n",
        "import matplotlib.pyplot as plt\n",
        "import seaborn as sns"
      ],
      "execution_count": 84,
      "outputs": []
    },
    {
      "cell_type": "markdown",
      "metadata": {
        "id": "LnyLLPMoihHX",
        "colab_type": "text"
      },
      "source": [
        "<a id='wrangling'></a>\n",
        "## Data Wrangling\n",
        "\n",
        "> **Tip**: In this section of the report, you will load in the data, check for cleanliness, and then trim and clean your dataset for analysis. Make sure that you document your steps carefully and justify your cleaning decisions.\n",
        "\n",
        "### General Properties"
      ]
    },
    {
      "cell_type": "markdown",
      "metadata": {
        "id": "XqQGTvr4RPpp",
        "colab_type": "text"
      },
      "source": [
        "## import data and look ahead"
      ]
    },
    {
      "cell_type": "code",
      "metadata": {
        "id": "pHpMUXxTRTbe",
        "colab_type": "code",
        "colab": {
          "base_uri": "https://localhost:8080/",
          "height": 288
        },
        "outputId": "3acffb75-878d-4f80-acf3-fa551811cfe6"
      },
      "source": [
        "df = pd.read_csv('/content/tmdb-movies.csv')\n",
        "df.head(2)"
      ],
      "execution_count": 85,
      "outputs": [
        {
          "output_type": "execute_result",
          "data": {
            "text/html": [
              "<div>\n",
              "<style scoped>\n",
              "    .dataframe tbody tr th:only-of-type {\n",
              "        vertical-align: middle;\n",
              "    }\n",
              "\n",
              "    .dataframe tbody tr th {\n",
              "        vertical-align: top;\n",
              "    }\n",
              "\n",
              "    .dataframe thead th {\n",
              "        text-align: right;\n",
              "    }\n",
              "</style>\n",
              "<table border=\"1\" class=\"dataframe\">\n",
              "  <thead>\n",
              "    <tr style=\"text-align: right;\">\n",
              "      <th></th>\n",
              "      <th>id</th>\n",
              "      <th>imdb_id</th>\n",
              "      <th>popularity</th>\n",
              "      <th>budget</th>\n",
              "      <th>revenue</th>\n",
              "      <th>original_title</th>\n",
              "      <th>cast</th>\n",
              "      <th>homepage</th>\n",
              "      <th>director</th>\n",
              "      <th>tagline</th>\n",
              "      <th>keywords</th>\n",
              "      <th>overview</th>\n",
              "      <th>runtime</th>\n",
              "      <th>genres</th>\n",
              "      <th>production_companies</th>\n",
              "      <th>release_date</th>\n",
              "      <th>vote_count</th>\n",
              "      <th>vote_average</th>\n",
              "      <th>release_year</th>\n",
              "      <th>budget_adj</th>\n",
              "      <th>revenue_adj</th>\n",
              "    </tr>\n",
              "  </thead>\n",
              "  <tbody>\n",
              "    <tr>\n",
              "      <th>0</th>\n",
              "      <td>135397</td>\n",
              "      <td>tt0369610</td>\n",
              "      <td>32.985763</td>\n",
              "      <td>150000000</td>\n",
              "      <td>1513528810</td>\n",
              "      <td>Jurassic World</td>\n",
              "      <td>Chris Pratt|Bryce Dallas Howard|Irrfan Khan|Vi...</td>\n",
              "      <td>http://www.jurassicworld.com/</td>\n",
              "      <td>Colin Trevorrow</td>\n",
              "      <td>The park is open.</td>\n",
              "      <td>monster|dna|tyrannosaurus rex|velociraptor|island</td>\n",
              "      <td>Twenty-two years after the events of Jurassic ...</td>\n",
              "      <td>124</td>\n",
              "      <td>Action|Adventure|Science Fiction|Thriller</td>\n",
              "      <td>Universal Studios|Amblin Entertainment|Legenda...</td>\n",
              "      <td>6/9/15</td>\n",
              "      <td>5562</td>\n",
              "      <td>6.5</td>\n",
              "      <td>2015</td>\n",
              "      <td>1.379999e+08</td>\n",
              "      <td>1.392446e+09</td>\n",
              "    </tr>\n",
              "    <tr>\n",
              "      <th>1</th>\n",
              "      <td>76341</td>\n",
              "      <td>tt1392190</td>\n",
              "      <td>28.419936</td>\n",
              "      <td>150000000</td>\n",
              "      <td>378436354</td>\n",
              "      <td>Mad Max: Fury Road</td>\n",
              "      <td>Tom Hardy|Charlize Theron|Hugh Keays-Byrne|Nic...</td>\n",
              "      <td>http://www.madmaxmovie.com/</td>\n",
              "      <td>George Miller</td>\n",
              "      <td>What a Lovely Day.</td>\n",
              "      <td>future|chase|post-apocalyptic|dystopia|australia</td>\n",
              "      <td>An apocalyptic story set in the furthest reach...</td>\n",
              "      <td>120</td>\n",
              "      <td>Action|Adventure|Science Fiction|Thriller</td>\n",
              "      <td>Village Roadshow Pictures|Kennedy Miller Produ...</td>\n",
              "      <td>5/13/15</td>\n",
              "      <td>6185</td>\n",
              "      <td>7.1</td>\n",
              "      <td>2015</td>\n",
              "      <td>1.379999e+08</td>\n",
              "      <td>3.481613e+08</td>\n",
              "    </tr>\n",
              "  </tbody>\n",
              "</table>\n",
              "</div>"
            ],
            "text/plain": [
              "       id    imdb_id  popularity  ...  release_year    budget_adj   revenue_adj\n",
              "0  135397  tt0369610   32.985763  ...          2015  1.379999e+08  1.392446e+09\n",
              "1   76341  tt1392190   28.419936  ...          2015  1.379999e+08  3.481613e+08\n",
              "\n",
              "[2 rows x 21 columns]"
            ]
          },
          "metadata": {
            "tags": []
          },
          "execution_count": 85
        }
      ]
    },
    {
      "cell_type": "code",
      "metadata": {
        "id": "IZkgEhrJS9PE",
        "colab_type": "code",
        "colab": {
          "base_uri": "https://localhost:8080/",
          "height": 110
        },
        "outputId": "606de455-935f-479e-a871-daca6d952451"
      },
      "source": [
        "# list columns \n",
        "\n",
        "columns = list(df.columns)\n",
        "\n",
        "print(\"number of sample is : \", str(len(df)) + \" row \")\n",
        "\n",
        "print(\"columns in data is \\n  \",columns)\n",
        "\n",
        "print(\"number of columns is : \",str(len(columns)) + \" columns\")\n"
      ],
      "execution_count": 86,
      "outputs": [
        {
          "output_type": "stream",
          "text": [
            "number of sample is :  10866 row \n",
            "columns in data is \n",
            "   ['id', 'imdb_id', 'popularity', 'budget', 'revenue', 'original_title', 'cast', 'homepage', 'director', 'tagline', 'keywords', 'overview', 'runtime', 'genres', 'production_companies', 'release_date', 'vote_count', 'vote_average', 'release_year', 'budget_adj', 'revenue_adj']\n",
            "number of columns is :  21 columns\n"
          ],
          "name": "stdout"
        }
      ]
    },
    {
      "cell_type": "markdown",
      "metadata": {
        "id": "ujvPmrBgUTtX",
        "colab_type": "text"
      },
      "source": [
        "### **observation about data** \n",
        "\n",
        "- we need to remove unused column \n",
        "- remove duplicated data\n",
        "- fill NAN value with mean of this column\n",
        "- Changing  date column to date format.\n",
        "\n",
        "\n"
      ]
    },
    {
      "cell_type": "code",
      "metadata": {
        "id": "Ob1q49gPUfhM",
        "colab_type": "code",
        "colab": {
          "base_uri": "https://localhost:8080/",
          "height": 271
        },
        "outputId": "a3b47967-c4ab-4c21-8fd1-3b42cb4dc8aa"
      },
      "source": [
        "unwanted_col=[ 'id', 'imdb_id', 'popularity', 'budget_adj', 'revenue_adj', 'homepage', 'keywords', 'overview', 'production_companies', 'vote_count', 'vote_average']\n",
        "\n",
        "df.drop(unwanted_col , axis = 1 , inplace = True)\n",
        "\n",
        "df.head(2)\n"
      ],
      "execution_count": 87,
      "outputs": [
        {
          "output_type": "execute_result",
          "data": {
            "text/html": [
              "<div>\n",
              "<style scoped>\n",
              "    .dataframe tbody tr th:only-of-type {\n",
              "        vertical-align: middle;\n",
              "    }\n",
              "\n",
              "    .dataframe tbody tr th {\n",
              "        vertical-align: top;\n",
              "    }\n",
              "\n",
              "    .dataframe thead th {\n",
              "        text-align: right;\n",
              "    }\n",
              "</style>\n",
              "<table border=\"1\" class=\"dataframe\">\n",
              "  <thead>\n",
              "    <tr style=\"text-align: right;\">\n",
              "      <th></th>\n",
              "      <th>budget</th>\n",
              "      <th>revenue</th>\n",
              "      <th>original_title</th>\n",
              "      <th>cast</th>\n",
              "      <th>director</th>\n",
              "      <th>tagline</th>\n",
              "      <th>runtime</th>\n",
              "      <th>genres</th>\n",
              "      <th>release_date</th>\n",
              "      <th>release_year</th>\n",
              "    </tr>\n",
              "  </thead>\n",
              "  <tbody>\n",
              "    <tr>\n",
              "      <th>0</th>\n",
              "      <td>150000000</td>\n",
              "      <td>1513528810</td>\n",
              "      <td>Jurassic World</td>\n",
              "      <td>Chris Pratt|Bryce Dallas Howard|Irrfan Khan|Vi...</td>\n",
              "      <td>Colin Trevorrow</td>\n",
              "      <td>The park is open.</td>\n",
              "      <td>124</td>\n",
              "      <td>Action|Adventure|Science Fiction|Thriller</td>\n",
              "      <td>6/9/15</td>\n",
              "      <td>2015</td>\n",
              "    </tr>\n",
              "    <tr>\n",
              "      <th>1</th>\n",
              "      <td>150000000</td>\n",
              "      <td>378436354</td>\n",
              "      <td>Mad Max: Fury Road</td>\n",
              "      <td>Tom Hardy|Charlize Theron|Hugh Keays-Byrne|Nic...</td>\n",
              "      <td>George Miller</td>\n",
              "      <td>What a Lovely Day.</td>\n",
              "      <td>120</td>\n",
              "      <td>Action|Adventure|Science Fiction|Thriller</td>\n",
              "      <td>5/13/15</td>\n",
              "      <td>2015</td>\n",
              "    </tr>\n",
              "  </tbody>\n",
              "</table>\n",
              "</div>"
            ],
            "text/plain": [
              "      budget     revenue  ... release_date release_year\n",
              "0  150000000  1513528810  ...       6/9/15         2015\n",
              "1  150000000   378436354  ...      5/13/15         2015\n",
              "\n",
              "[2 rows x 10 columns]"
            ]
          },
          "metadata": {
            "tags": []
          },
          "execution_count": 87
        }
      ]
    },
    {
      "cell_type": "code",
      "metadata": {
        "id": "lmPk8X9GjleN",
        "colab_type": "code",
        "colab": {
          "base_uri": "https://localhost:8080/",
          "height": 300
        },
        "outputId": "cd0c9347-8c43-408b-987c-915133f66f1d"
      },
      "source": [
        "df.describe()"
      ],
      "execution_count": 88,
      "outputs": [
        {
          "output_type": "execute_result",
          "data": {
            "text/html": [
              "<div>\n",
              "<style scoped>\n",
              "    .dataframe tbody tr th:only-of-type {\n",
              "        vertical-align: middle;\n",
              "    }\n",
              "\n",
              "    .dataframe tbody tr th {\n",
              "        vertical-align: top;\n",
              "    }\n",
              "\n",
              "    .dataframe thead th {\n",
              "        text-align: right;\n",
              "    }\n",
              "</style>\n",
              "<table border=\"1\" class=\"dataframe\">\n",
              "  <thead>\n",
              "    <tr style=\"text-align: right;\">\n",
              "      <th></th>\n",
              "      <th>budget</th>\n",
              "      <th>revenue</th>\n",
              "      <th>runtime</th>\n",
              "      <th>release_year</th>\n",
              "    </tr>\n",
              "  </thead>\n",
              "  <tbody>\n",
              "    <tr>\n",
              "      <th>count</th>\n",
              "      <td>1.086600e+04</td>\n",
              "      <td>1.086600e+04</td>\n",
              "      <td>10866.000000</td>\n",
              "      <td>10866.000000</td>\n",
              "    </tr>\n",
              "    <tr>\n",
              "      <th>mean</th>\n",
              "      <td>1.462570e+07</td>\n",
              "      <td>3.982332e+07</td>\n",
              "      <td>102.070863</td>\n",
              "      <td>2001.322658</td>\n",
              "    </tr>\n",
              "    <tr>\n",
              "      <th>std</th>\n",
              "      <td>3.091321e+07</td>\n",
              "      <td>1.170035e+08</td>\n",
              "      <td>31.381405</td>\n",
              "      <td>12.812941</td>\n",
              "    </tr>\n",
              "    <tr>\n",
              "      <th>min</th>\n",
              "      <td>0.000000e+00</td>\n",
              "      <td>0.000000e+00</td>\n",
              "      <td>0.000000</td>\n",
              "      <td>1960.000000</td>\n",
              "    </tr>\n",
              "    <tr>\n",
              "      <th>25%</th>\n",
              "      <td>0.000000e+00</td>\n",
              "      <td>0.000000e+00</td>\n",
              "      <td>90.000000</td>\n",
              "      <td>1995.000000</td>\n",
              "    </tr>\n",
              "    <tr>\n",
              "      <th>50%</th>\n",
              "      <td>0.000000e+00</td>\n",
              "      <td>0.000000e+00</td>\n",
              "      <td>99.000000</td>\n",
              "      <td>2006.000000</td>\n",
              "    </tr>\n",
              "    <tr>\n",
              "      <th>75%</th>\n",
              "      <td>1.500000e+07</td>\n",
              "      <td>2.400000e+07</td>\n",
              "      <td>111.000000</td>\n",
              "      <td>2011.000000</td>\n",
              "    </tr>\n",
              "    <tr>\n",
              "      <th>max</th>\n",
              "      <td>4.250000e+08</td>\n",
              "      <td>2.781506e+09</td>\n",
              "      <td>900.000000</td>\n",
              "      <td>2015.000000</td>\n",
              "    </tr>\n",
              "  </tbody>\n",
              "</table>\n",
              "</div>"
            ],
            "text/plain": [
              "             budget       revenue       runtime  release_year\n",
              "count  1.086600e+04  1.086600e+04  10866.000000  10866.000000\n",
              "mean   1.462570e+07  3.982332e+07    102.070863   2001.322658\n",
              "std    3.091321e+07  1.170035e+08     31.381405     12.812941\n",
              "min    0.000000e+00  0.000000e+00      0.000000   1960.000000\n",
              "25%    0.000000e+00  0.000000e+00     90.000000   1995.000000\n",
              "50%    0.000000e+00  0.000000e+00     99.000000   2006.000000\n",
              "75%    1.500000e+07  2.400000e+07    111.000000   2011.000000\n",
              "max    4.250000e+08  2.781506e+09    900.000000   2015.000000"
            ]
          },
          "metadata": {
            "tags": []
          },
          "execution_count": 88
        }
      ]
    },
    {
      "cell_type": "code",
      "metadata": {
        "id": "6V1UL5t1jt9u",
        "colab_type": "code",
        "colab": {
          "base_uri": "https://localhost:8080/",
          "height": 329
        },
        "outputId": "5ce00e4f-3918-45a1-ce6d-338f8e75f957"
      },
      "source": [
        "df.info()"
      ],
      "execution_count": 89,
      "outputs": [
        {
          "output_type": "stream",
          "text": [
            "<class 'pandas.core.frame.DataFrame'>\n",
            "RangeIndex: 10866 entries, 0 to 10865\n",
            "Data columns (total 10 columns):\n",
            " #   Column          Non-Null Count  Dtype \n",
            "---  ------          --------------  ----- \n",
            " 0   budget          10866 non-null  int64 \n",
            " 1   revenue         10866 non-null  int64 \n",
            " 2   original_title  10866 non-null  object\n",
            " 3   cast            10790 non-null  object\n",
            " 4   director        10822 non-null  object\n",
            " 5   tagline         8042 non-null   object\n",
            " 6   runtime         10866 non-null  int64 \n",
            " 7   genres          10843 non-null  object\n",
            " 8   release_date    10866 non-null  object\n",
            " 9   release_year    10866 non-null  int64 \n",
            "dtypes: int64(4), object(6)\n",
            "memory usage: 849.0+ KB\n"
          ],
          "name": "stdout"
        }
      ]
    },
    {
      "cell_type": "markdown",
      "metadata": {
        "id": "Y0Lo2yQdl_2C",
        "colab_type": "text"
      },
      "source": [
        "> **Tip**: You should _not_ perform too many operations in each cell. Create cells freely to explore your data. One option that you can take with this project is to do a lot of explorations in an initial notebook. These don't have to be organized, but make sure you use enough comments to understand the purpose of each code cell. Then, after you're done with your analysis, create a duplicate notebook where you will trim the excess and organize your steps so that you have a flowing, cohesive report.\n",
        "\n",
        "> **Tip**: Make sure that you keep your reader informed on the steps that you are taking in your investigation. Follow every code cell, or every set of related code cells, with a markdown cell to describe to the reader what was found in the preceding cell(s). Try to make it so that the reader can then understand what they will be seeing in the following cell(s).\n",
        "\n",
        "### Data Cleaning (Replace this with more specific notes!)"
      ]
    },
    {
      "cell_type": "markdown",
      "metadata": {
        "id": "YywW9msSj2vF",
        "colab_type": "text"
      },
      "source": [
        "## drop duplicated"
      ]
    },
    {
      "cell_type": "code",
      "metadata": {
        "id": "b8G1C_PRj6a6",
        "colab_type": "code",
        "colab": {
          "base_uri": "https://localhost:8080/",
          "height": 35
        },
        "outputId": "1f2d5370-7d79-42bb-93ae-6296deb78996"
      },
      "source": [
        "print(\"sum of the duplicated data is : \", sum(df.duplicated()))"
      ],
      "execution_count": 90,
      "outputs": [
        {
          "output_type": "stream",
          "text": [
            "sum of the duplicated data is :  1\n"
          ],
          "name": "stdout"
        }
      ]
    },
    {
      "cell_type": "code",
      "metadata": {
        "id": "GEYrh_7PkFlW",
        "colab_type": "code",
        "colab": {
          "base_uri": "https://localhost:8080/",
          "height": 35
        },
        "outputId": "111ee748-0f14-4de0-b9c9-b8e8fdfa97fe"
      },
      "source": [
        "df.drop_duplicates(inplace= True)\n",
        "print(\"sum of the duplicated data is : \", sum(df.duplicated()))"
      ],
      "execution_count": 91,
      "outputs": [
        {
          "output_type": "stream",
          "text": [
            "sum of the duplicated data is :  0\n"
          ],
          "name": "stdout"
        }
      ]
    },
    {
      "cell_type": "markdown",
      "metadata": {
        "id": "jZjbr_tJkO0P",
        "colab_type": "text"
      },
      "source": [
        "## fill non value with mean"
      ]
    },
    {
      "cell_type": "code",
      "metadata": {
        "id": "n3HTEiH7kThP",
        "colab_type": "code",
        "colab": {
          "base_uri": "https://localhost:8080/",
          "height": 237
        },
        "outputId": "c3265088-c2e7-4710-9fd9-5ed797d509f7"
      },
      "source": [
        "print(\"sum of the null value is : \",len(df.isnull().count()))\n",
        "df.isnull().sum()"
      ],
      "execution_count": 92,
      "outputs": [
        {
          "output_type": "stream",
          "text": [
            "sum of the null value is :  10\n"
          ],
          "name": "stdout"
        },
        {
          "output_type": "execute_result",
          "data": {
            "text/plain": [
              "budget               0\n",
              "revenue              0\n",
              "original_title       0\n",
              "cast                76\n",
              "director            44\n",
              "tagline           2824\n",
              "runtime              0\n",
              "genres              23\n",
              "release_date         0\n",
              "release_year         0\n",
              "dtype: int64"
            ]
          },
          "metadata": {
            "tags": []
          },
          "execution_count": 92
        }
      ]
    },
    {
      "cell_type": "markdown",
      "metadata": {
        "id": "ULi3Mdt7lf0W",
        "colab_type": "text"
      },
      "source": [
        "## because this data is categorical data and you want to drop it"
      ]
    },
    {
      "cell_type": "code",
      "metadata": {
        "id": "LandBmaPlnts",
        "colab_type": "code",
        "colab": {
          "base_uri": "https://localhost:8080/",
          "height": 219
        },
        "outputId": "f590edad-aab4-44f7-a112-1d1fac5ab01e"
      },
      "source": [
        "df.dropna(inplace=True)\n",
        "df.isnull().sum()"
      ],
      "execution_count": 93,
      "outputs": [
        {
          "output_type": "execute_result",
          "data": {
            "text/plain": [
              "budget            0\n",
              "revenue           0\n",
              "original_title    0\n",
              "cast              0\n",
              "director          0\n",
              "tagline           0\n",
              "runtime           0\n",
              "genres            0\n",
              "release_date      0\n",
              "release_year      0\n",
              "dtype: int64"
            ]
          },
          "metadata": {
            "tags": []
          },
          "execution_count": 93
        }
      ]
    },
    {
      "cell_type": "code",
      "metadata": {
        "id": "ImYskHpozg8I",
        "colab_type": "code",
        "colab": {
          "base_uri": "https://localhost:8080/",
          "height": 35
        },
        "outputId": "f94ffd75-c112-4e7a-9275-7f5f55a35352"
      },
      "source": [
        "print(df.shape)"
      ],
      "execution_count": 94,
      "outputs": [
        {
          "output_type": "stream",
          "text": [
            "(8001, 10)\n"
          ],
          "name": "stdout"
        }
      ]
    },
    {
      "cell_type": "markdown",
      "metadata": {
        "id": "2olcNeYCmRyt",
        "colab_type": "text"
      },
      "source": [
        "## fix data format"
      ]
    },
    {
      "cell_type": "code",
      "metadata": {
        "id": "UDNzJjFAmWDU",
        "colab_type": "code",
        "colab": {
          "base_uri": "https://localhost:8080/",
          "height": 482
        },
        "outputId": "7da5dbc6-f606-4c3f-9404-2f19f190a1c7"
      },
      "source": [
        "df.info()\n",
        "df.head(1)"
      ],
      "execution_count": 19,
      "outputs": [
        {
          "output_type": "stream",
          "text": [
            "<class 'pandas.core.frame.DataFrame'>\n",
            "Int64Index: 8001 entries, 0 to 10865\n",
            "Data columns (total 10 columns):\n",
            " #   Column          Non-Null Count  Dtype \n",
            "---  ------          --------------  ----- \n",
            " 0   budget          8001 non-null   int64 \n",
            " 1   revenue         8001 non-null   int64 \n",
            " 2   original_title  8001 non-null   object\n",
            " 3   cast            8001 non-null   object\n",
            " 4   director        8001 non-null   object\n",
            " 5   tagline         8001 non-null   object\n",
            " 6   runtime         8001 non-null   int64 \n",
            " 7   genres          8001 non-null   object\n",
            " 8   release_date    8001 non-null   object\n",
            " 9   release_year    8001 non-null   int64 \n",
            "dtypes: int64(4), object(6)\n",
            "memory usage: 687.6+ KB\n"
          ],
          "name": "stdout"
        },
        {
          "output_type": "execute_result",
          "data": {
            "text/html": [
              "<div>\n",
              "<style scoped>\n",
              "    .dataframe tbody tr th:only-of-type {\n",
              "        vertical-align: middle;\n",
              "    }\n",
              "\n",
              "    .dataframe tbody tr th {\n",
              "        vertical-align: top;\n",
              "    }\n",
              "\n",
              "    .dataframe thead th {\n",
              "        text-align: right;\n",
              "    }\n",
              "</style>\n",
              "<table border=\"1\" class=\"dataframe\">\n",
              "  <thead>\n",
              "    <tr style=\"text-align: right;\">\n",
              "      <th></th>\n",
              "      <th>budget</th>\n",
              "      <th>revenue</th>\n",
              "      <th>original_title</th>\n",
              "      <th>cast</th>\n",
              "      <th>director</th>\n",
              "      <th>tagline</th>\n",
              "      <th>runtime</th>\n",
              "      <th>genres</th>\n",
              "      <th>release_date</th>\n",
              "      <th>release_year</th>\n",
              "    </tr>\n",
              "  </thead>\n",
              "  <tbody>\n",
              "    <tr>\n",
              "      <th>0</th>\n",
              "      <td>150000000</td>\n",
              "      <td>1513528810</td>\n",
              "      <td>Jurassic World</td>\n",
              "      <td>Chris Pratt|Bryce Dallas Howard|Irrfan Khan|Vi...</td>\n",
              "      <td>Colin Trevorrow</td>\n",
              "      <td>The park is open.</td>\n",
              "      <td>124</td>\n",
              "      <td>Action|Adventure|Science Fiction|Thriller</td>\n",
              "      <td>6/9/15</td>\n",
              "      <td>2015</td>\n",
              "    </tr>\n",
              "  </tbody>\n",
              "</table>\n",
              "</div>"
            ],
            "text/plain": [
              "      budget     revenue  ... release_date release_year\n",
              "0  150000000  1513528810  ...       6/9/15         2015\n",
              "\n",
              "[1 rows x 10 columns]"
            ]
          },
          "metadata": {
            "tags": []
          },
          "execution_count": 19
        }
      ]
    },
    {
      "cell_type": "code",
      "metadata": {
        "id": "eWDJABMD98Oq",
        "colab_type": "code",
        "colab": {}
      },
      "source": [
        "df['runtime'] = df['runtime'].replace(0,np.NaN)"
      ],
      "execution_count": 153,
      "outputs": []
    },
    {
      "cell_type": "code",
      "metadata": {
        "id": "tMROEsXrnX__",
        "colab_type": "code",
        "colab": {
          "base_uri": "https://localhost:8080/",
          "height": 81
        },
        "outputId": "007e2947-204e-48c2-8e27-bd1e79b73d39"
      },
      "source": [
        "date = df[['release_date','release_year']].copy()\n",
        "date.head(1)"
      ],
      "execution_count": 154,
      "outputs": [
        {
          "output_type": "execute_result",
          "data": {
            "text/html": [
              "<div>\n",
              "<style scoped>\n",
              "    .dataframe tbody tr th:only-of-type {\n",
              "        vertical-align: middle;\n",
              "    }\n",
              "\n",
              "    .dataframe tbody tr th {\n",
              "        vertical-align: top;\n",
              "    }\n",
              "\n",
              "    .dataframe thead th {\n",
              "        text-align: right;\n",
              "    }\n",
              "</style>\n",
              "<table border=\"1\" class=\"dataframe\">\n",
              "  <thead>\n",
              "    <tr style=\"text-align: right;\">\n",
              "      <th></th>\n",
              "      <th>release_date</th>\n",
              "      <th>release_year</th>\n",
              "    </tr>\n",
              "  </thead>\n",
              "  <tbody>\n",
              "    <tr>\n",
              "      <th>0</th>\n",
              "      <td>6/9/15</td>\n",
              "      <td>2015</td>\n",
              "    </tr>\n",
              "  </tbody>\n",
              "</table>\n",
              "</div>"
            ],
            "text/plain": [
              "  release_date  release_year\n",
              "0       6/9/15          2015"
            ]
          },
          "metadata": {
            "tags": []
          },
          "execution_count": 154
        }
      ]
    },
    {
      "cell_type": "code",
      "metadata": {
        "id": "0CxJJHFewKje",
        "colab_type": "code",
        "colab": {}
      },
      "source": [
        ""
      ],
      "execution_count": null,
      "outputs": []
    },
    {
      "cell_type": "code",
      "metadata": {
        "id": "Uz8vQDiWoBvS",
        "colab_type": "code",
        "colab": {
          "base_uri": "https://localhost:8080/",
          "height": 81
        },
        "outputId": "39022d78-65fe-4179-b190-c3251cd7b84d"
      },
      "source": [
        "date[['month','day','bad_year']] = date.release_date.str.split(\"/\",expand=True) \n",
        "date.head(1)"
      ],
      "execution_count": 156,
      "outputs": [
        {
          "output_type": "execute_result",
          "data": {
            "text/html": [
              "<div>\n",
              "<style scoped>\n",
              "    .dataframe tbody tr th:only-of-type {\n",
              "        vertical-align: middle;\n",
              "    }\n",
              "\n",
              "    .dataframe tbody tr th {\n",
              "        vertical-align: top;\n",
              "    }\n",
              "\n",
              "    .dataframe thead th {\n",
              "        text-align: right;\n",
              "    }\n",
              "</style>\n",
              "<table border=\"1\" class=\"dataframe\">\n",
              "  <thead>\n",
              "    <tr style=\"text-align: right;\">\n",
              "      <th></th>\n",
              "      <th>release_date</th>\n",
              "      <th>release_year</th>\n",
              "      <th>month</th>\n",
              "      <th>day</th>\n",
              "      <th>bad_year</th>\n",
              "    </tr>\n",
              "  </thead>\n",
              "  <tbody>\n",
              "    <tr>\n",
              "      <th>0</th>\n",
              "      <td>6/9/15</td>\n",
              "      <td>2015</td>\n",
              "      <td>6</td>\n",
              "      <td>9</td>\n",
              "      <td>15</td>\n",
              "    </tr>\n",
              "  </tbody>\n",
              "</table>\n",
              "</div>"
            ],
            "text/plain": [
              "  release_date  release_year month day bad_year\n",
              "0       6/9/15          2015     6   9       15"
            ]
          },
          "metadata": {
            "tags": []
          },
          "execution_count": 156
        }
      ]
    },
    {
      "cell_type": "code",
      "metadata": {
        "id": "C4UQ188eqIsD",
        "colab_type": "code",
        "colab": {
          "base_uri": "https://localhost:8080/",
          "height": 146
        },
        "outputId": "c56739ae-8b35-4ef4-9545-09029b6f6c9e"
      },
      "source": [
        "dates.dtypes\n",
        "\n"
      ],
      "execution_count": 157,
      "outputs": [
        {
          "output_type": "execute_result",
          "data": {
            "text/plain": [
              "release_date    object\n",
              "release_year    object\n",
              "day             object\n",
              "month           object\n",
              "year            object\n",
              "date            object\n",
              "dtype: object"
            ]
          },
          "metadata": {
            "tags": []
          },
          "execution_count": 157
        }
      ]
    },
    {
      "cell_type": "code",
      "metadata": {
        "id": "Fy9edDfrqee3",
        "colab_type": "code",
        "colab": {
          "base_uri": "https://localhost:8080/",
          "height": 127
        },
        "outputId": "ee68c39f-477f-4803-bde2-9f02c7741f81"
      },
      "source": [
        "date[\"release_year\"] = dates[\"release_year\"].astype(str)\n",
        "date.dtypes"
      ],
      "execution_count": 158,
      "outputs": [
        {
          "output_type": "execute_result",
          "data": {
            "text/plain": [
              "release_date    object\n",
              "release_year    object\n",
              "month           object\n",
              "day             object\n",
              "bad_year        object\n",
              "dtype: object"
            ]
          },
          "metadata": {
            "tags": []
          },
          "execution_count": 158
        }
      ]
    },
    {
      "cell_type": "code",
      "metadata": {
        "id": "KgKkeLJ2quQL",
        "colab_type": "code",
        "colab": {
          "base_uri": "https://localhost:8080/",
          "height": 81
        },
        "outputId": "40d52f2b-649d-4a9d-eec9-8e0492f66db1"
      },
      "source": [
        "date['date'] = date['release_year'] + '-' + date['month'] + '-' + date['day']\n",
        "date['date'] = pd.to_datetime(date['date'])\n",
        "\n",
        "date.head(1)\n"
      ],
      "execution_count": 159,
      "outputs": [
        {
          "output_type": "execute_result",
          "data": {
            "text/html": [
              "<div>\n",
              "<style scoped>\n",
              "    .dataframe tbody tr th:only-of-type {\n",
              "        vertical-align: middle;\n",
              "    }\n",
              "\n",
              "    .dataframe tbody tr th {\n",
              "        vertical-align: top;\n",
              "    }\n",
              "\n",
              "    .dataframe thead th {\n",
              "        text-align: right;\n",
              "    }\n",
              "</style>\n",
              "<table border=\"1\" class=\"dataframe\">\n",
              "  <thead>\n",
              "    <tr style=\"text-align: right;\">\n",
              "      <th></th>\n",
              "      <th>release_date</th>\n",
              "      <th>release_year</th>\n",
              "      <th>month</th>\n",
              "      <th>day</th>\n",
              "      <th>bad_year</th>\n",
              "      <th>date</th>\n",
              "    </tr>\n",
              "  </thead>\n",
              "  <tbody>\n",
              "    <tr>\n",
              "      <th>0</th>\n",
              "      <td>6/9/15</td>\n",
              "      <td>2015</td>\n",
              "      <td>6</td>\n",
              "      <td>9</td>\n",
              "      <td>15</td>\n",
              "      <td>2015-06-09</td>\n",
              "    </tr>\n",
              "  </tbody>\n",
              "</table>\n",
              "</div>"
            ],
            "text/plain": [
              "  release_date release_year month day bad_year       date\n",
              "0       6/9/15         2015     6   9       15 2015-06-09"
            ]
          },
          "metadata": {
            "tags": []
          },
          "execution_count": 159
        }
      ]
    },
    {
      "cell_type": "code",
      "metadata": {
        "id": "yPqGqGqr95G5",
        "colab_type": "code",
        "colab": {}
      },
      "source": [
        ""
      ],
      "execution_count": 159,
      "outputs": []
    },
    {
      "cell_type": "code",
      "metadata": {
        "id": "Yy1e1I3Dxmgs",
        "colab_type": "code",
        "colab": {
          "base_uri": "https://localhost:8080/",
          "height": 256
        },
        "outputId": "9351249f-693e-43ba-f92b-f7db100fb99c"
      },
      "source": [
        "date.info()"
      ],
      "execution_count": 160,
      "outputs": [
        {
          "output_type": "stream",
          "text": [
            "<class 'pandas.core.frame.DataFrame'>\n",
            "Int64Index: 8001 entries, 0 to 10865\n",
            "Data columns (total 6 columns):\n",
            " #   Column        Non-Null Count  Dtype         \n",
            "---  ------        --------------  -----         \n",
            " 0   release_date  8001 non-null   object        \n",
            " 1   release_year  8001 non-null   object        \n",
            " 2   month         8001 non-null   object        \n",
            " 3   day           8001 non-null   object        \n",
            " 4   bad_year      8001 non-null   object        \n",
            " 5   date          8001 non-null   datetime64[ns]\n",
            "dtypes: datetime64[ns](1), object(5)\n",
            "memory usage: 437.6+ KB\n"
          ],
          "name": "stdout"
        }
      ]
    },
    {
      "cell_type": "code",
      "metadata": {
        "id": "wRvYc1g1xqMf",
        "colab_type": "code",
        "colab": {
          "base_uri": "https://localhost:8080/",
          "height": 170
        },
        "outputId": "62a55245-f1d8-42b1-d4e1-98529d051e32"
      },
      "source": [
        "df['release_date'] = date['date']\n",
        "df.head(1)"
      ],
      "execution_count": 161,
      "outputs": [
        {
          "output_type": "execute_result",
          "data": {
            "text/html": [
              "<div>\n",
              "<style scoped>\n",
              "    .dataframe tbody tr th:only-of-type {\n",
              "        vertical-align: middle;\n",
              "    }\n",
              "\n",
              "    .dataframe tbody tr th {\n",
              "        vertical-align: top;\n",
              "    }\n",
              "\n",
              "    .dataframe thead th {\n",
              "        text-align: right;\n",
              "    }\n",
              "</style>\n",
              "<table border=\"1\" class=\"dataframe\">\n",
              "  <thead>\n",
              "    <tr style=\"text-align: right;\">\n",
              "      <th></th>\n",
              "      <th>budget</th>\n",
              "      <th>revenue</th>\n",
              "      <th>original_title</th>\n",
              "      <th>cast</th>\n",
              "      <th>director</th>\n",
              "      <th>tagline</th>\n",
              "      <th>runtime</th>\n",
              "      <th>genres</th>\n",
              "      <th>release_date</th>\n",
              "      <th>release_year</th>\n",
              "      <th>profit</th>\n",
              "    </tr>\n",
              "  </thead>\n",
              "  <tbody>\n",
              "    <tr>\n",
              "      <th>0</th>\n",
              "      <td>150000000</td>\n",
              "      <td>1513528810</td>\n",
              "      <td>Jurassic World</td>\n",
              "      <td>Chris Pratt|Bryce Dallas Howard|Irrfan Khan|Vi...</td>\n",
              "      <td>Colin Trevorrow</td>\n",
              "      <td>The park is open.</td>\n",
              "      <td>124.0</td>\n",
              "      <td>Action|Adventure|Science Fiction|Thriller</td>\n",
              "      <td>2015-06-09</td>\n",
              "      <td>2015</td>\n",
              "      <td>1363528810</td>\n",
              "    </tr>\n",
              "  </tbody>\n",
              "</table>\n",
              "</div>"
            ],
            "text/plain": [
              "      budget     revenue  original_title  ... release_date release_year      profit\n",
              "0  150000000  1513528810  Jurassic World  ...   2015-06-09         2015  1363528810\n",
              "\n",
              "[1 rows x 11 columns]"
            ]
          },
          "metadata": {
            "tags": []
          },
          "execution_count": 161
        }
      ]
    },
    {
      "cell_type": "code",
      "metadata": {
        "id": "8UOWzgiazFxb",
        "colab_type": "code",
        "colab": {
          "base_uri": "https://localhost:8080/",
          "height": 348
        },
        "outputId": "e6a5328d-e35f-403a-b589-b9ec0967c9a1"
      },
      "source": [
        "df.info()"
      ],
      "execution_count": 162,
      "outputs": [
        {
          "output_type": "stream",
          "text": [
            "<class 'pandas.core.frame.DataFrame'>\n",
            "Int64Index: 8001 entries, 0 to 10865\n",
            "Data columns (total 11 columns):\n",
            " #   Column          Non-Null Count  Dtype         \n",
            "---  ------          --------------  -----         \n",
            " 0   budget          8001 non-null   int64         \n",
            " 1   revenue         8001 non-null   int64         \n",
            " 2   original_title  8001 non-null   object        \n",
            " 3   cast            8001 non-null   object        \n",
            " 4   director        8001 non-null   object        \n",
            " 5   tagline         8001 non-null   object        \n",
            " 6   runtime         7997 non-null   float64       \n",
            " 7   genres          8001 non-null   object        \n",
            " 8   release_date    8001 non-null   datetime64[ns]\n",
            " 9   release_year    8001 non-null   int64         \n",
            " 10  profit          8001 non-null   int64         \n",
            "dtypes: datetime64[ns](1), float64(1), int64(4), object(5)\n",
            "memory usage: 1.0+ MB\n"
          ],
          "name": "stdout"
        }
      ]
    },
    {
      "cell_type": "markdown",
      "metadata": {
        "id": "nvtaOQpT0B9r",
        "colab_type": "text"
      },
      "source": [
        "## check some info about data"
      ]
    },
    {
      "cell_type": "code",
      "metadata": {
        "id": "58QdJk3a0G7v",
        "colab_type": "code",
        "colab": {
          "base_uri": "https://localhost:8080/",
          "height": 237
        },
        "outputId": "ddedbcc0-af09-4079-8b5e-aec6ce9c3934"
      },
      "source": [
        "df.isnull().sum()"
      ],
      "execution_count": 163,
      "outputs": [
        {
          "output_type": "execute_result",
          "data": {
            "text/plain": [
              "budget            0\n",
              "revenue           0\n",
              "original_title    0\n",
              "cast              0\n",
              "director          0\n",
              "tagline           0\n",
              "runtime           4\n",
              "genres            0\n",
              "release_date      0\n",
              "release_year      0\n",
              "profit            0\n",
              "dtype: int64"
            ]
          },
          "metadata": {
            "tags": []
          },
          "execution_count": 163
        }
      ]
    },
    {
      "cell_type": "code",
      "metadata": {
        "id": "yK26EyyH0K0R",
        "colab_type": "code",
        "colab": {
          "base_uri": "https://localhost:8080/",
          "height": 35
        },
        "outputId": "801a083b-3271-40bf-ac37-dcb3acce41ce"
      },
      "source": [
        "print(\"sum of duplicated data : \" ,sum(df.duplicated()))"
      ],
      "execution_count": 164,
      "outputs": [
        {
          "output_type": "stream",
          "text": [
            "sum of duplicated data :  0\n"
          ],
          "name": "stdout"
        }
      ]
    },
    {
      "cell_type": "code",
      "metadata": {
        "id": "QBLFF2Te0f6W",
        "colab_type": "code",
        "colab": {
          "base_uri": "https://localhost:8080/",
          "height": 170
        },
        "outputId": "580f9cb7-815e-4e96-cd97-22b6a4fc44a9"
      },
      "source": [
        "df.head(1)"
      ],
      "execution_count": 165,
      "outputs": [
        {
          "output_type": "execute_result",
          "data": {
            "text/html": [
              "<div>\n",
              "<style scoped>\n",
              "    .dataframe tbody tr th:only-of-type {\n",
              "        vertical-align: middle;\n",
              "    }\n",
              "\n",
              "    .dataframe tbody tr th {\n",
              "        vertical-align: top;\n",
              "    }\n",
              "\n",
              "    .dataframe thead th {\n",
              "        text-align: right;\n",
              "    }\n",
              "</style>\n",
              "<table border=\"1\" class=\"dataframe\">\n",
              "  <thead>\n",
              "    <tr style=\"text-align: right;\">\n",
              "      <th></th>\n",
              "      <th>budget</th>\n",
              "      <th>revenue</th>\n",
              "      <th>original_title</th>\n",
              "      <th>cast</th>\n",
              "      <th>director</th>\n",
              "      <th>tagline</th>\n",
              "      <th>runtime</th>\n",
              "      <th>genres</th>\n",
              "      <th>release_date</th>\n",
              "      <th>release_year</th>\n",
              "      <th>profit</th>\n",
              "    </tr>\n",
              "  </thead>\n",
              "  <tbody>\n",
              "    <tr>\n",
              "      <th>0</th>\n",
              "      <td>150000000</td>\n",
              "      <td>1513528810</td>\n",
              "      <td>Jurassic World</td>\n",
              "      <td>Chris Pratt|Bryce Dallas Howard|Irrfan Khan|Vi...</td>\n",
              "      <td>Colin Trevorrow</td>\n",
              "      <td>The park is open.</td>\n",
              "      <td>124.0</td>\n",
              "      <td>Action|Adventure|Science Fiction|Thriller</td>\n",
              "      <td>2015-06-09</td>\n",
              "      <td>2015</td>\n",
              "      <td>1363528810</td>\n",
              "    </tr>\n",
              "  </tbody>\n",
              "</table>\n",
              "</div>"
            ],
            "text/plain": [
              "      budget     revenue  original_title  ... release_date release_year      profit\n",
              "0  150000000  1513528810  Jurassic World  ...   2015-06-09         2015  1363528810\n",
              "\n",
              "[1 rows x 11 columns]"
            ]
          },
          "metadata": {
            "tags": []
          },
          "execution_count": 165
        }
      ]
    },
    {
      "cell_type": "code",
      "metadata": {
        "id": "JovraNJi4H3p",
        "colab_type": "code",
        "colab": {}
      },
      "source": [
        "df.to_csv('clean_data.csv' ,index=False)"
      ],
      "execution_count": 166,
      "outputs": []
    },
    {
      "cell_type": "markdown",
      "metadata": {
        "id": "g8y3g1nvihIB",
        "colab_type": "text"
      },
      "source": [
        "<a id='eda'></a>\n",
        "## Exploratory Data Analysis\n",
        "\n",
        "> **Tip**: Now that you've trimmed and cleaned your data, you're ready to move on to exploration. Compute statistics and create visualizations with the goal of addressing the research questions that you posed in the Introduction section. It is recommended that you be systematic with your approach. Look at one variable at a time, and then follow it up by looking at relationships between variables.\n",
        "\n",
        "### Research Question 1 (what is max and min profit to films )"
      ]
    },
    {
      "cell_type": "code",
      "metadata": {
        "id": "MV8hzLb30esS",
        "colab_type": "code",
        "colab": {
          "base_uri": "https://localhost:8080/",
          "height": 90
        },
        "outputId": "d63f010c-a613-4340-f78c-e0e7f660f9a4"
      },
      "source": [
        "df['profit'] = df['revenue'] - df['budget']\n",
        "max = df[df['profit'] == df['profit'].max()]\n",
        "min = df[df['profit'] == df['profit'].min()]\n",
        "\n",
        "print(\"id of max profit movie is  : \" , max['director'])\n",
        "print(\"min film in profit is by : \",min['director'])\n"
      ],
      "execution_count": 167,
      "outputs": [
        {
          "output_type": "stream",
          "text": [
            "id of max profit movie is  :  1386    James Cameron\n",
            "Name: director, dtype: object\n",
            "min film in profit is by :  2244    Sngmoo Lee\n",
            "Name: director, dtype: object\n"
          ],
          "name": "stdout"
        }
      ]
    },
    {
      "cell_type": "markdown",
      "metadata": {
        "id": "JYqKfBtBihIT",
        "colab_type": "text"
      },
      "source": [
        "### Research Question 2  (what is the max and min **revenue**)\n",
        "\n",
        "1.   List item\n",
        "\n",
        "> Indented block\n",
        "\n",
        "\n",
        "2.   List item\n",
        "\n"
      ]
    },
    {
      "cell_type": "code",
      "metadata": {
        "id": "NAl0oci16478",
        "colab_type": "code",
        "colab": {
          "base_uri": "https://localhost:8080/",
          "height": 35
        },
        "outputId": "b8208e57-3596-45a4-bc8f-2b770d0926e2"
      },
      "source": [
        "max_revenue = df.revenue.max()\n",
        "min_revenue = df.revenue.min()\n",
        "\n",
        "print(\"max revenue is : \", max_revenue)\n"
      ],
      "execution_count": 169,
      "outputs": [
        {
          "output_type": "stream",
          "text": [
            "max revenue is :  2781505847\n"
          ],
          "name": "stdout"
        }
      ]
    },
    {
      "cell_type": "markdown",
      "metadata": {
        "id": "LPrFwu-D8_jd",
        "colab_type": "text"
      },
      "source": [
        "### Research Question 3  (what is shortest and high runtime of thsi movie![alt text](![alt text](https://)) **revenue**)\n",
        "\n",
        "> Indented block\n",
        "\n",
        "> Indented block\n",
        "\n",
        "\n",
        "\n",
        "\n"
      ]
    },
    {
      "cell_type": "code",
      "metadata": {
        "id": "RD-CaE6z9L75",
        "colab_type": "code",
        "colab": {
          "base_uri": "https://localhost:8080/",
          "height": 54
        },
        "outputId": "197ab48d-343a-4cd7-b03c-4d00d619b400"
      },
      "source": [
        "high_run_time = df['runtime'].max()\n",
        "low_run_time  = df['runtime'].min()\n",
        "\n",
        "print(\"high_run_time is : \", str(high_run_time) + \" minutes\")\n",
        "print(\"low_run_time is : \", str(low_run_time)+ \" minutes\" )\n"
      ],
      "execution_count": 173,
      "outputs": [
        {
          "output_type": "stream",
          "text": [
            "high_run_time is :  877.0 minutes\n",
            "low_run_time is :  3.0 minutes\n"
          ],
          "name": "stdout"
        }
      ]
    },
    {
      "cell_type": "markdown",
      "metadata": {
        "id": "KYL-VUAF_d-u",
        "colab_type": "text"
      },
      "source": [
        "### Research Question 4  (what is year high profit is found) \n",
        "\n",
        "---\n",
        "\n"
      ]
    },
    {
      "cell_type": "code",
      "metadata": {
        "id": "Q9cUCZwO_iVH",
        "colab_type": "code",
        "colab": {
          "base_uri": "https://localhost:8080/",
          "height": 640
        },
        "outputId": "08b007f2-bab7-4121-c9ce-debcd48004f0"
      },
      "source": [
        "plt.figure(figsize=(10,10))\n",
        "plt.xlabel(\" year of production films\")\n",
        "plt.ylabel(\" profit of this films\")\n",
        "plt.title ('profits Vs release year')\n",
        "plt.legend('profit')\n",
        "\n",
        "df.groupby('release_year').mean()['profit'].plot(color = 'red' ,legend = 'profit' )"
      ],
      "execution_count": 185,
      "outputs": [
        {
          "output_type": "execute_result",
          "data": {
            "text/plain": [
              "<matplotlib.axes._subplots.AxesSubplot at 0x7f184aa155f8>"
            ]
          },
          "metadata": {
            "tags": []
          },
          "execution_count": 185
        },
        {
          "output_type": "display_data",
          "data": {
            "image/png": "[encoded data removed]",
            "text/plain": [
              "<Figure size 720x720 with 1 Axes>"
            ]
          },
          "metadata": {
            "tags": [],
            "needs_background": "light"
          }
        }
      ]
    },
    {
      "cell_type": "markdown",
      "metadata": {
        "id": "_Egd_ekPDLFh",
        "colab_type": "text"
      },
      "source": [
        "### Research Question 5  (what is the  most geners in films) "
      ]
    },
    {
      "cell_type": "markdown",
      "metadata": {
        "id": "xxMS4P_vDb1n",
        "colab_type": "text"
      },
      "source": [
        "## split geners which separate with (|)\n"
      ]
    },
    {
      "cell_type": "code",
      "metadata": {
        "id": "l9G3hvX9CyRj",
        "colab_type": "code",
        "colab": {}
      },
      "source": [
        "label = []\n",
        "def data_split(column):\n",
        "    #will take a column, and separate the string by '|'\n",
        "    data = df[column].str.cat(sep = '|')\n",
        "    \n",
        "    #giving pandas series and storing the values separately\n",
        "    data = pd.Series(data.split('|'))\n",
        "    label = list(data)\n",
        "    \n",
        "    #arranging in descending order\n",
        "    count = data.value_counts(ascending = False)\n",
        "    print(count)\n",
        "    \n",
        "    return count"
      ],
      "execution_count": 250,
      "outputs": []
    },
    {
      "cell_type": "code",
      "metadata": {
        "id": "4XLpjX_mH89G",
        "colab_type": "code",
        "colab": {
          "base_uri": "https://localhost:8080/",
          "height": 1000
        },
        "outputId": "d57f00eb-7c43-4a93-b387-ae35a8c08432"
      },
      "source": [
        "count = data_split('genres')\n",
        "\n",
        "#ploting\n",
        "plt.figure(figsize=(20,20))\n",
        "plt.xlabel(' frequency of film ')\n",
        "plt.ylabel('genere of this film ')\n",
        "plt.title(\"'Frequent && Genres in  Movies'\")\n",
        "lt = count.plot.barh(color = '#00FF00', fontsize = 13)\n"
      ],
      "execution_count": 257,
      "outputs": [
        {
          "output_type": "stream",
          "text": [
            "Drama              3495\n",
            "Comedy             2857\n",
            "Thriller           2396\n",
            "Action             1940\n",
            "Horror             1346\n",
            "Romance            1269\n",
            "Adventure          1187\n",
            "Crime              1149\n",
            "Science Fiction    1009\n",
            "Family              861\n",
            "Fantasy             710\n",
            "Mystery             660\n",
            "Animation           410\n",
            "Music               273\n",
            "Documentary         239\n",
            "History             230\n",
            "War                 206\n",
            "Western             138\n",
            "TV Movie             71\n",
            "Foreign              67\n",
            "dtype: int64\n"
          ],
          "name": "stdout"
        },
        {
          "output_type": "display_data",
          "data": {
            "image/png": "[encoded data removed]",
            "text/plain": [
              "<Figure size 1440x1440 with 1 Axes>"
            ]
          },
          "metadata": {
            "tags": [],
            "needs_background": "light"
          }
        }
      ]
    },
    {
      "cell_type": "markdown",
      "metadata": {
        "id": "lFJKbYEaP03E",
        "colab_type": "text"
      },
      "source": [
        "## i want to know correlation between column \n",
        "- 1 positive correlation \n",
        "\n",
        "- -1 negative coorelation \n",
        "\n",
        "- 0 symetric"
      ]
    },
    {
      "cell_type": "code",
      "metadata": {
        "id": "926TajJDPoSZ",
        "colab_type": "code",
        "colab": {
          "base_uri": "https://localhost:8080/",
          "height": 206
        },
        "outputId": "58876573-aa3b-4726-c2a5-d72eb8e09688"
      },
      "source": [
        "df.corr()"
      ],
      "execution_count": 258,
      "outputs": [
        {
          "output_type": "execute_result",
          "data": {
            "text/html": [
              "<div>\n",
              "<style scoped>\n",
              "    .dataframe tbody tr th:only-of-type {\n",
              "        vertical-align: middle;\n",
              "    }\n",
              "\n",
              "    .dataframe tbody tr th {\n",
              "        vertical-align: top;\n",
              "    }\n",
              "\n",
              "    .dataframe thead th {\n",
              "        text-align: right;\n",
              "    }\n",
              "</style>\n",
              "<table border=\"1\" class=\"dataframe\">\n",
              "  <thead>\n",
              "    <tr style=\"text-align: right;\">\n",
              "      <th></th>\n",
              "      <th>budget</th>\n",
              "      <th>revenue</th>\n",
              "      <th>runtime</th>\n",
              "      <th>release_year</th>\n",
              "      <th>profit</th>\n",
              "    </tr>\n",
              "  </thead>\n",
              "  <tbody>\n",
              "    <tr>\n",
              "      <th>budget</th>\n",
              "      <td>1.000000</td>\n",
              "      <td>0.730249</td>\n",
              "      <td>0.217709</td>\n",
              "      <td>0.176623</td>\n",
              "      <td>0.567801</td>\n",
              "    </tr>\n",
              "    <tr>\n",
              "      <th>revenue</th>\n",
              "      <td>0.730249</td>\n",
              "      <td>1.000000</td>\n",
              "      <td>0.192908</td>\n",
              "      <td>0.098914</td>\n",
              "      <td>0.977007</td>\n",
              "    </tr>\n",
              "    <tr>\n",
              "      <th>runtime</th>\n",
              "      <td>0.217709</td>\n",
              "      <td>0.192908</td>\n",
              "      <td>1.000000</td>\n",
              "      <td>-0.098836</td>\n",
              "      <td>0.164492</td>\n",
              "    </tr>\n",
              "    <tr>\n",
              "      <th>release_year</th>\n",
              "      <td>0.176623</td>\n",
              "      <td>0.098914</td>\n",
              "      <td>-0.098836</td>\n",
              "      <td>1.000000</td>\n",
              "      <td>0.064062</td>\n",
              "    </tr>\n",
              "    <tr>\n",
              "      <th>profit</th>\n",
              "      <td>0.567801</td>\n",
              "      <td>0.977007</td>\n",
              "      <td>0.164492</td>\n",
              "      <td>0.064062</td>\n",
              "      <td>1.000000</td>\n",
              "    </tr>\n",
              "  </tbody>\n",
              "</table>\n",
              "</div>"
            ],
            "text/plain": [
              "                budget   revenue   runtime  release_year    profit\n",
              "budget        1.000000  0.730249  0.217709      0.176623  0.567801\n",
              "revenue       0.730249  1.000000  0.192908      0.098914  0.977007\n",
              "runtime       0.217709  0.192908  1.000000     -0.098836  0.164492\n",
              "release_year  0.176623  0.098914 -0.098836      1.000000  0.064062\n",
              "profit        0.567801  0.977007  0.164492      0.064062  1.000000"
            ]
          },
          "metadata": {
            "tags": []
          },
          "execution_count": 258
        }
      ]
    },
    {
      "cell_type": "markdown",
      "metadata": {
        "id": "-QbrFCNlQGhd",
        "colab_type": "text"
      },
      "source": [
        "## draw heatmap\n",
        "- confusion matrix between column\n",
        "\n",
        "- this heat map show correlation between column and another \n"
      ]
    },
    {
      "cell_type": "code",
      "metadata": {
        "id": "iCowQyR_QKY-",
        "colab_type": "code",
        "colab": {
          "base_uri": "https://localhost:8080/",
          "height": 626
        },
        "outputId": "f7468cac-9f02-4b34-8ff6-f2a1a23240b8"
      },
      "source": [
        "fig, ax = plt.subplots(figsize=(15,10))         \n",
        "sns.heatmap(df.corr(), annot=True, fmt=\"f\",ax=ax)\n",
        "plt.title('correlation matrix for DataFrame')"
      ],
      "execution_count": 259,
      "outputs": [
        {
          "output_type": "execute_result",
          "data": {
            "text/plain": [
              "Text(0.5, 1.0, 'correlation matrix for DataFrame')"
            ]
          },
          "metadata": {
            "tags": []
          },
          "execution_count": 259
        },
        {
          "output_type": "display_data",
          "data": {
            "image/png": "[encoded data removed]",
            "text/plain": [
              "<Figure size 1080x720 with 2 Axes>"
            ]
          },
          "metadata": {
            "tags": [],
            "needs_background": "light"
          }
        }
      ]
    },
    {
      "cell_type": "markdown",
      "metadata": {
        "id": "xz0VZH6MihIm",
        "colab_type": "text"
      },
      "source": [
        "<a id='conclusions'></a>\n",
        "## Conclusions\n",
        "\n",
        "> **Tip**: Finally, summarize your findings and the results that have been performed. Make sure that you are clear with regards to the limitations of your exploration. If you haven't done any statistical tests, do not imply any statistical conclusions. And make sure you avoid implying causation from correlation!\n",
        "\n",
        "> **Tip**: Once you are satisfied with your work here, check over your report to make sure that it is satisfies all the areas of the rubric (found on the project submission page at the end of the lesson). You should also probably remove all of the \"Tips\" like this one so that the presentation is as polished as possible.\n",
        "\n",
        "## Submitting your Project \n",
        "\n",
        "> Before you submit your project, you need to create a .html or .pdf version of this notebook in the workspace here. To do that, run the code cell below. If it worked correctly, you should get a return code of 0, and you should see the generated .html file in the workspace directory (click on the orange Jupyter icon in the upper left).\n",
        "\n",
        "> Alternatively, you can download this report as .html via the **File** > **Download as** submenu, and then manually upload it into the workspace directory by clicking on the orange Jupyter icon in the upper left, then using the Upload button.\n",
        "\n",
        "> Once you've done this, you can submit your project by clicking on the \"Submit Project\" button in the lower right here. This will create and submit a zip file with this .ipynb doc and the .html or .pdf version you created. Congratulations!"
      ]
    },
    {
      "cell_type": "code",
      "metadata": {
        "id": "lC_RMlf4ihIn",
        "colab_type": "code",
        "colab": {}
      },
      "source": [
        "from subprocess import call\n",
        "call(['python', '-m', 'nbconvert', 'Investigate_a_Dataset.ipynb'])"
      ],
      "execution_count": null,
      "outputs": []
    },
    {
      "cell_type": "code",
      "metadata": {
        "id": "JVZG-NzBz-pW",
        "colab_type": "code",
        "colab": {
          "base_uri": "https://localhost:8080/"
        },
        "outputId": "28653b1d-00a5-456f-c684-592671bf48d9"
      },
      "source": [
        "43 /7"
      ],
      "execution_count": null,
      "outputs": [
        {
          "output_type": "execute_result",
          "data": {
            "text/plain": [
              "6.142857142857143"
            ]
          },
          "metadata": {
            "tags": []
          },
          "execution_count": 2
        }
      ]
    }
  ]
}