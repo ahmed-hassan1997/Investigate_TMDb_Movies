{
  "nbformat": 4,
  "nbformat_minor": 0,
  "metadata": {
    "kernelspec": {
      "display_name": "Python 3",
      "language": "python",
      "name": "python3"
    },
    "language_info": {
      "codemirror_mode": {
        "name": "ipython",
        "version": 3
      },
      "file_extension": ".py",
      "mimetype": "text/x-python",
      "name": "python",
      "nbconvert_exporter": "python",
      "pygments_lexer": "ipython3",
      "version": "3.6.3"
    },
    "colab": {
      "name": "Investigate_a_Dataset.ipynb",
      "provenance": [],
      "collapsed_sections": [],
      "toc_visible": true,
      "include_colab_link": true
    },
    "accelerator": "GPU"
  },
  "cells": [
    {
      "cell_type": "markdown",
      "metadata": {
        "id": "view-in-github",
        "colab_type": "text"
      },
      "source": [
        "<a href=\"https://colab.research.google.com/github/ahmed-hassan1997/Investigate_TMDb_Movies/blob/master/Investigate_a_Dataset.ipynb\" target=\"_parent\"><img src=\"https://colab.research.google.com/assets/colab-badge.svg\" alt=\"Open In Colab\"/></a>"
      ]
    },
    {
      "cell_type": "markdown",
      "metadata": {
        "id": "Csr-pSRDihGn",
        "colab_type": "text"
      },
      "source": [
        "\n",
        "\n",
        "# Project:  Investigate_TMDb_Movies\n",
        "\n",
        "ahmed hassan \n",
        "\n",
        "- introduction\n",
        "\n",
        "In this project, you'll go through the data analysis process and see how everything fits together. Later Nanodegree projects will focus on individual pieces of the data analysis process.\n",
        "\n",
        "You'll use the Python libraries NumPy, pandas, and Matplotlib, which make writing data analysis code in Python a lot easier! Not only that, these are sought-after skills by employers!\n",
        "\n",
        "\n",
        "## Table of Contents\n",
        "<ul>\n",
        "<li><a href=\"#intro\">Introduction</a></li>\n",
        "<li><a href=\"cleaning\">data cleaning</a></li>\n",
        "<li><a href=\"#wrangling\">Data Wrangling</a></li>\n",
        "<li><a href=\"#eda\"> Data visualization</a></li>\n",
        "<li><a href=\"#conclusions\">Conclusions</a></li>\n",
        "</ul>"
      ]
    },
    {
      "cell_type": "markdown",
      "metadata": {
        "id": "W9axOjWbihGu",
        "colab_type": "text"
      },
      "source": [
        "<a id='question'></a>\n",
        "## question\n",
        "\n",
        "1- Q1: what is number of filw to director Colin Trevorrow?\n",
        "\n",
        "2- Q2: what is the best director have high revenue?\n",
        "\n",
        "3- Q3: what is the name of the film which have large run time?\n",
        "\n",
        "4- q4: what is the high run time?\n"
      ]
    },
    {
      "cell_type": "markdown",
      "metadata": {
        "id": "I9T8WuEYQZ6i",
        "colab_type": "text"
      },
      "source": [
        "## include important libraries for data analysis "
      ]
    },
    {
      "cell_type": "code",
      "metadata": {
        "id": "MIuup4eyihG2",
        "colab_type": "code",
        "colab": {
          "base_uri": "https://localhost:8080/",
          "height": 74
        },
        "outputId": "6432bada-45f4-4d75-bae9-8dc6c0186992"
      },
      "source": [
        "# Use this cell to set up import statements for all of the packages that you\n",
        "#   plan to use.\n",
        "\n",
        "# Remember to include a 'magic word' so that your visualizations are plotted\n",
        "#   inline with the notebook. See this page for more:\n",
        "#   http://ipython.readthedocs.io/en/stable/interactive/magics.html\n",
        "\n",
        "import numpy as np \n",
        "import pandas as pd\n",
        "import matplotlib.pyplot as plt\n",
        "import seaborn as sns"
      ],
      "execution_count": 1,
      "outputs": [
        {
          "output_type": "stream",
          "text": [
            "/usr/local/lib/python3.6/dist-packages/statsmodels/tools/_testing.py:19: FutureWarning: pandas.util.testing is deprecated. Use the functions in the public API at pandas.testing instead.\n",
            "  import pandas.util.testing as tm\n"
          ],
          "name": "stderr"
        }
      ]
    },
    {
      "cell_type": "markdown",
      "metadata": {
        "id": "LnyLLPMoihHX",
        "colab_type": "text"
      },
      "source": [
        "<a id='wrangling'></a>\n",
        "## Data Wrangling\n",
        "\n",
        "> **Tip**: In this section of the report, you will load in the data, check for cleanliness, and then trim and clean your dataset for analysis. Make sure that you document your steps carefully and justify your cleaning decisions.\n",
        "\n",
        "### General Properties"
      ]
    },
    {
      "cell_type": "markdown",
      "metadata": {
        "id": "XqQGTvr4RPpp",
        "colab_type": "text"
      },
      "source": [
        "## import data and look ahead"
      ]
    },
    {
      "cell_type": "code",
      "metadata": {
        "id": "pHpMUXxTRTbe",
        "colab_type": "code",
        "colab": {
          "base_uri": "https://localhost:8080/",
          "height": 271
        },
        "outputId": "7e610ce9-caec-4a49-f882-0fbc65ab3cd7"
      },
      "source": [
        "df = pd.read_csv('/content/tmdb-movies.csv')\n",
        "df.head(2)"
      ],
      "execution_count": 2,
      "outputs": [
        {
          "output_type": "execute_result",
          "data": {
            "text/html": [
              "<div>\n",
              "<style scoped>\n",
              "    .dataframe tbody tr th:only-of-type {\n",
              "        vertical-align: middle;\n",
              "    }\n",
              "\n",
              "    .dataframe tbody tr th {\n",
              "        vertical-align: top;\n",
              "    }\n",
              "\n",
              "    .dataframe thead th {\n",
              "        text-align: right;\n",
              "    }\n",
              "</style>\n",
              "<table border=\"1\" class=\"dataframe\">\n",
              "  <thead>\n",
              "    <tr style=\"text-align: right;\">\n",
              "      <th></th>\n",
              "      <th>id</th>\n",
              "      <th>imdb_id</th>\n",
              "      <th>popularity</th>\n",
              "      <th>budget</th>\n",
              "      <th>revenue</th>\n",
              "      <th>original_title</th>\n",
              "      <th>cast</th>\n",
              "      <th>homepage</th>\n",
              "      <th>director</th>\n",
              "      <th>tagline</th>\n",
              "      <th>keywords</th>\n",
              "      <th>overview</th>\n",
              "      <th>runtime</th>\n",
              "      <th>genres</th>\n",
              "      <th>production_companies</th>\n",
              "      <th>release_date</th>\n",
              "      <th>vote_count</th>\n",
              "      <th>vote_average</th>\n",
              "      <th>release_year</th>\n",
              "      <th>budget_adj</th>\n",
              "      <th>revenue_adj</th>\n",
              "    </tr>\n",
              "  </thead>\n",
              "  <tbody>\n",
              "    <tr>\n",
              "      <th>0</th>\n",
              "      <td>135397</td>\n",
              "      <td>tt0369610</td>\n",
              "      <td>32.985763</td>\n",
              "      <td>150000000</td>\n",
              "      <td>1513528810</td>\n",
              "      <td>Jurassic World</td>\n",
              "      <td>Chris Pratt|Bryce Dallas Howard|Irrfan Khan|Vi...</td>\n",
              "      <td>http://www.jurassicworld.com/</td>\n",
              "      <td>Colin Trevorrow</td>\n",
              "      <td>The park is open.</td>\n",
              "      <td>monster|dna|tyrannosaurus rex|velociraptor|island</td>\n",
              "      <td>Twenty-two years after the events of Jurassic ...</td>\n",
              "      <td>124</td>\n",
              "      <td>Action|Adventure|Science Fiction|Thriller</td>\n",
              "      <td>Universal Studios|Amblin Entertainment|Legenda...</td>\n",
              "      <td>6/9/15</td>\n",
              "      <td>5562</td>\n",
              "      <td>6.5</td>\n",
              "      <td>2015</td>\n",
              "      <td>1.379999e+08</td>\n",
              "      <td>1.392446e+09</td>\n",
              "    </tr>\n",
              "    <tr>\n",
              "      <th>1</th>\n",
              "      <td>76341</td>\n",
              "      <td>tt1392190</td>\n",
              "      <td>28.419936</td>\n",
              "      <td>150000000</td>\n",
              "      <td>378436354</td>\n",
              "      <td>Mad Max: Fury Road</td>\n",
              "      <td>Tom Hardy|Charlize Theron|Hugh Keays-Byrne|Nic...</td>\n",
              "      <td>http://www.madmaxmovie.com/</td>\n",
              "      <td>George Miller</td>\n",
              "      <td>What a Lovely Day.</td>\n",
              "      <td>future|chase|post-apocalyptic|dystopia|australia</td>\n",
              "      <td>An apocalyptic story set in the furthest reach...</td>\n",
              "      <td>120</td>\n",
              "      <td>Action|Adventure|Science Fiction|Thriller</td>\n",
              "      <td>Village Roadshow Pictures|Kennedy Miller Produ...</td>\n",
              "      <td>5/13/15</td>\n",
              "      <td>6185</td>\n",
              "      <td>7.1</td>\n",
              "      <td>2015</td>\n",
              "      <td>1.379999e+08</td>\n",
              "      <td>3.481613e+08</td>\n",
              "    </tr>\n",
              "  </tbody>\n",
              "</table>\n",
              "</div>"
            ],
            "text/plain": [
              "       id    imdb_id  popularity  ...  release_year    budget_adj   revenue_adj\n",
              "0  135397  tt0369610   32.985763  ...          2015  1.379999e+08  1.392446e+09\n",
              "1   76341  tt1392190   28.419936  ...          2015  1.379999e+08  3.481613e+08\n",
              "\n",
              "[2 rows x 21 columns]"
            ]
          },
          "metadata": {
            "tags": []
          },
          "execution_count": 2
        }
      ]
    },
    {
      "cell_type": "code",
      "metadata": {
        "id": "IZkgEhrJS9PE",
        "colab_type": "code",
        "colab": {
          "base_uri": "https://localhost:8080/",
          "height": 112
        },
        "outputId": "ac231630-22a1-4b98-a458-20e7b87ae6e2"
      },
      "source": [
        "# list columns \n",
        "\n",
        "columns = list(df.columns)\n",
        "\n",
        "print(\"number of sample is : \", str(len(df)) + \" row \")\n",
        "\n",
        "print(\"columns in data is \\n  \",columns)\n",
        "\n",
        "print(\"number of columns is : \",str(len(columns)) + \" columns\")\n"
      ],
      "execution_count": 3,
      "outputs": [
        {
          "output_type": "stream",
          "text": [
            "number of sample is :  10866 row \n",
            "columns in data is \n",
            "   ['id', 'imdb_id', 'popularity', 'budget', 'revenue', 'original_title', 'cast', 'homepage', 'director', 'tagline', 'keywords', 'overview', 'runtime', 'genres', 'production_companies', 'release_date', 'vote_count', 'vote_average', 'release_year', 'budget_adj', 'revenue_adj']\n",
            "number of columns is :  21 columns\n"
          ],
          "name": "stdout"
        }
      ]
    },
    {
      "cell_type": "markdown",
      "metadata": {
        "id": "ujvPmrBgUTtX",
        "colab_type": "text"
      },
      "source": [
        "### **observation about data** \n",
        "\n",
        "- we need to remove unused column \n",
        "- remove duplicated data\n",
        "- fill NAN value with mean of this column\n",
        "- Changing  date column to date format.\n",
        "\n",
        "\n"
      ]
    },
    {
      "cell_type": "code",
      "metadata": {
        "id": "Ob1q49gPUfhM",
        "colab_type": "code",
        "colab": {
          "base_uri": "https://localhost:8080/",
          "height": 271
        },
        "outputId": "6c11e4f3-f550-4768-c95b-f4e21f062e22"
      },
      "source": [
        "unwanted_col = ['id','imdb_id','homepage','tagline','keywords','overview','budget_adj','revenue_adj']\n",
        "df.drop(unwanted_col , axis = 1 , inplace = True)\n",
        "\n",
        "df.head(2)\n"
      ],
      "execution_count": 4,
      "outputs": [
        {
          "output_type": "execute_result",
          "data": {
            "text/html": [
              "<div>\n",
              "<style scoped>\n",
              "    .dataframe tbody tr th:only-of-type {\n",
              "        vertical-align: middle;\n",
              "    }\n",
              "\n",
              "    .dataframe tbody tr th {\n",
              "        vertical-align: top;\n",
              "    }\n",
              "\n",
              "    .dataframe thead th {\n",
              "        text-align: right;\n",
              "    }\n",
              "</style>\n",
              "<table border=\"1\" class=\"dataframe\">\n",
              "  <thead>\n",
              "    <tr style=\"text-align: right;\">\n",
              "      <th></th>\n",
              "      <th>popularity</th>\n",
              "      <th>budget</th>\n",
              "      <th>revenue</th>\n",
              "      <th>original_title</th>\n",
              "      <th>cast</th>\n",
              "      <th>director</th>\n",
              "      <th>runtime</th>\n",
              "      <th>genres</th>\n",
              "      <th>production_companies</th>\n",
              "      <th>release_date</th>\n",
              "      <th>vote_count</th>\n",
              "      <th>vote_average</th>\n",
              "      <th>release_year</th>\n",
              "    </tr>\n",
              "  </thead>\n",
              "  <tbody>\n",
              "    <tr>\n",
              "      <th>0</th>\n",
              "      <td>32.985763</td>\n",
              "      <td>150000000</td>\n",
              "      <td>1513528810</td>\n",
              "      <td>Jurassic World</td>\n",
              "      <td>Chris Pratt|Bryce Dallas Howard|Irrfan Khan|Vi...</td>\n",
              "      <td>Colin Trevorrow</td>\n",
              "      <td>124</td>\n",
              "      <td>Action|Adventure|Science Fiction|Thriller</td>\n",
              "      <td>Universal Studios|Amblin Entertainment|Legenda...</td>\n",
              "      <td>6/9/15</td>\n",
              "      <td>5562</td>\n",
              "      <td>6.5</td>\n",
              "      <td>2015</td>\n",
              "    </tr>\n",
              "    <tr>\n",
              "      <th>1</th>\n",
              "      <td>28.419936</td>\n",
              "      <td>150000000</td>\n",
              "      <td>378436354</td>\n",
              "      <td>Mad Max: Fury Road</td>\n",
              "      <td>Tom Hardy|Charlize Theron|Hugh Keays-Byrne|Nic...</td>\n",
              "      <td>George Miller</td>\n",
              "      <td>120</td>\n",
              "      <td>Action|Adventure|Science Fiction|Thriller</td>\n",
              "      <td>Village Roadshow Pictures|Kennedy Miller Produ...</td>\n",
              "      <td>5/13/15</td>\n",
              "      <td>6185</td>\n",
              "      <td>7.1</td>\n",
              "      <td>2015</td>\n",
              "    </tr>\n",
              "  </tbody>\n",
              "</table>\n",
              "</div>"
            ],
            "text/plain": [
              "   popularity     budget     revenue  ... vote_count vote_average release_year\n",
              "0   32.985763  150000000  1513528810  ...       5562          6.5         2015\n",
              "1   28.419936  150000000   378436354  ...       6185          7.1         2015\n",
              "\n",
              "[2 rows x 13 columns]"
            ]
          },
          "metadata": {
            "tags": []
          },
          "execution_count": 4
        }
      ]
    },
    {
      "cell_type": "code",
      "metadata": {
        "id": "lmPk8X9GjleN",
        "colab_type": "code",
        "colab": {
          "base_uri": "https://localhost:8080/",
          "height": 300
        },
        "outputId": "ca8e8656-d49d-4483-ebcb-ef9f2ff3acae"
      },
      "source": [
        "df.describe()"
      ],
      "execution_count": 5,
      "outputs": [
        {
          "output_type": "execute_result",
          "data": {
            "text/html": [
              "<div>\n",
              "<style scoped>\n",
              "    .dataframe tbody tr th:only-of-type {\n",
              "        vertical-align: middle;\n",
              "    }\n",
              "\n",
              "    .dataframe tbody tr th {\n",
              "        vertical-align: top;\n",
              "    }\n",
              "\n",
              "    .dataframe thead th {\n",
              "        text-align: right;\n",
              "    }\n",
              "</style>\n",
              "<table border=\"1\" class=\"dataframe\">\n",
              "  <thead>\n",
              "    <tr style=\"text-align: right;\">\n",
              "      <th></th>\n",
              "      <th>popularity</th>\n",
              "      <th>budget</th>\n",
              "      <th>revenue</th>\n",
              "      <th>runtime</th>\n",
              "      <th>vote_count</th>\n",
              "      <th>vote_average</th>\n",
              "      <th>release_year</th>\n",
              "    </tr>\n",
              "  </thead>\n",
              "  <tbody>\n",
              "    <tr>\n",
              "      <th>count</th>\n",
              "      <td>10866.000000</td>\n",
              "      <td>1.086600e+04</td>\n",
              "      <td>1.086600e+04</td>\n",
              "      <td>10866.000000</td>\n",
              "      <td>10866.000000</td>\n",
              "      <td>10866.000000</td>\n",
              "      <td>10866.000000</td>\n",
              "    </tr>\n",
              "    <tr>\n",
              "      <th>mean</th>\n",
              "      <td>0.646441</td>\n",
              "      <td>1.462570e+07</td>\n",
              "      <td>3.982332e+07</td>\n",
              "      <td>102.070863</td>\n",
              "      <td>217.389748</td>\n",
              "      <td>5.974922</td>\n",
              "      <td>2001.322658</td>\n",
              "    </tr>\n",
              "    <tr>\n",
              "      <th>std</th>\n",
              "      <td>1.000185</td>\n",
              "      <td>3.091321e+07</td>\n",
              "      <td>1.170035e+08</td>\n",
              "      <td>31.381405</td>\n",
              "      <td>575.619058</td>\n",
              "      <td>0.935142</td>\n",
              "      <td>12.812941</td>\n",
              "    </tr>\n",
              "    <tr>\n",
              "      <th>min</th>\n",
              "      <td>0.000065</td>\n",
              "      <td>0.000000e+00</td>\n",
              "      <td>0.000000e+00</td>\n",
              "      <td>0.000000</td>\n",
              "      <td>10.000000</td>\n",
              "      <td>1.500000</td>\n",
              "      <td>1960.000000</td>\n",
              "    </tr>\n",
              "    <tr>\n",
              "      <th>25%</th>\n",
              "      <td>0.207583</td>\n",
              "      <td>0.000000e+00</td>\n",
              "      <td>0.000000e+00</td>\n",
              "      <td>90.000000</td>\n",
              "      <td>17.000000</td>\n",
              "      <td>5.400000</td>\n",
              "      <td>1995.000000</td>\n",
              "    </tr>\n",
              "    <tr>\n",
              "      <th>50%</th>\n",
              "      <td>0.383856</td>\n",
              "      <td>0.000000e+00</td>\n",
              "      <td>0.000000e+00</td>\n",
              "      <td>99.000000</td>\n",
              "      <td>38.000000</td>\n",
              "      <td>6.000000</td>\n",
              "      <td>2006.000000</td>\n",
              "    </tr>\n",
              "    <tr>\n",
              "      <th>75%</th>\n",
              "      <td>0.713817</td>\n",
              "      <td>1.500000e+07</td>\n",
              "      <td>2.400000e+07</td>\n",
              "      <td>111.000000</td>\n",
              "      <td>145.750000</td>\n",
              "      <td>6.600000</td>\n",
              "      <td>2011.000000</td>\n",
              "    </tr>\n",
              "    <tr>\n",
              "      <th>max</th>\n",
              "      <td>32.985763</td>\n",
              "      <td>4.250000e+08</td>\n",
              "      <td>2.781506e+09</td>\n",
              "      <td>900.000000</td>\n",
              "      <td>9767.000000</td>\n",
              "      <td>9.200000</td>\n",
              "      <td>2015.000000</td>\n",
              "    </tr>\n",
              "  </tbody>\n",
              "</table>\n",
              "</div>"
            ],
            "text/plain": [
              "         popularity        budget  ...  vote_average  release_year\n",
              "count  10866.000000  1.086600e+04  ...  10866.000000  10866.000000\n",
              "mean       0.646441  1.462570e+07  ...      5.974922   2001.322658\n",
              "std        1.000185  3.091321e+07  ...      0.935142     12.812941\n",
              "min        0.000065  0.000000e+00  ...      1.500000   1960.000000\n",
              "25%        0.207583  0.000000e+00  ...      5.400000   1995.000000\n",
              "50%        0.383856  0.000000e+00  ...      6.000000   2006.000000\n",
              "75%        0.713817  1.500000e+07  ...      6.600000   2011.000000\n",
              "max       32.985763  4.250000e+08  ...      9.200000   2015.000000\n",
              "\n",
              "[8 rows x 7 columns]"
            ]
          },
          "metadata": {
            "tags": []
          },
          "execution_count": 5
        }
      ]
    },
    {
      "cell_type": "code",
      "metadata": {
        "id": "6V1UL5t1jt9u",
        "colab_type": "code",
        "colab": {
          "base_uri": "https://localhost:8080/",
          "height": 392
        },
        "outputId": "ba12ecbd-3779-43a4-af0b-7c8774643d63"
      },
      "source": [
        "df.info()"
      ],
      "execution_count": 6,
      "outputs": [
        {
          "output_type": "stream",
          "text": [
            "<class 'pandas.core.frame.DataFrame'>\n",
            "RangeIndex: 10866 entries, 0 to 10865\n",
            "Data columns (total 13 columns):\n",
            " #   Column                Non-Null Count  Dtype  \n",
            "---  ------                --------------  -----  \n",
            " 0   popularity            10866 non-null  float64\n",
            " 1   budget                10866 non-null  int64  \n",
            " 2   revenue               10866 non-null  int64  \n",
            " 3   original_title        10866 non-null  object \n",
            " 4   cast                  10790 non-null  object \n",
            " 5   director              10822 non-null  object \n",
            " 6   runtime               10866 non-null  int64  \n",
            " 7   genres                10843 non-null  object \n",
            " 8   production_companies  9836 non-null   object \n",
            " 9   release_date          10866 non-null  object \n",
            " 10  vote_count            10866 non-null  int64  \n",
            " 11  vote_average          10866 non-null  float64\n",
            " 12  release_year          10866 non-null  int64  \n",
            "dtypes: float64(2), int64(5), object(6)\n",
            "memory usage: 1.1+ MB\n"
          ],
          "name": "stdout"
        }
      ]
    },
    {
      "cell_type": "code",
      "metadata": {
        "id": "d5sHFDZY8F3v",
        "colab_type": "code",
        "colab": {
          "base_uri": "https://localhost:8080/",
          "height": 279
        },
        "outputId": "44113e7b-be77-47f0-d334-e36f7a910702"
      },
      "source": [
        "df.isnull().sum().sort_values(ascending = False)"
      ],
      "execution_count": 7,
      "outputs": [
        {
          "output_type": "execute_result",
          "data": {
            "text/plain": [
              "production_companies    1030\n",
              "cast                      76\n",
              "director                  44\n",
              "genres                    23\n",
              "release_year               0\n",
              "vote_average               0\n",
              "vote_count                 0\n",
              "release_date               0\n",
              "runtime                    0\n",
              "original_title             0\n",
              "revenue                    0\n",
              "budget                     0\n",
              "popularity                 0\n",
              "dtype: int64"
            ]
          },
          "metadata": {
            "tags": []
          },
          "execution_count": 7
        }
      ]
    },
    {
      "cell_type": "markdown",
      "metadata": {
        "id": "Hw8htUMTEzlZ",
        "colab_type": "text"
      },
      "source": [
        "### fill nan value\n",
        "* production_companies  with mode\n",
        "* cast with mode\n",
        "* director with mode\n",
        "* genres with mode"
      ]
    },
    {
      "cell_type": "markdown",
      "metadata": {
        "id": "ZoEV2_1X8489",
        "colab_type": "text"
      },
      "source": [
        "###### convert complex column into one value"
      ]
    },
    {
      "cell_type": "markdown",
      "metadata": {
        "id": "3A970Yu7__Cc",
        "colab_type": "text"
      },
      "source": [
        "## function to calculate mode"
      ]
    },
    {
      "cell_type": "code",
      "metadata": {
        "id": "X_4NkX6NAELs",
        "colab_type": "code",
        "colab": {}
      },
      "source": [
        "def cal_mode(x):\n",
        "  return x.mode()[0]"
      ],
      "execution_count": 8,
      "outputs": []
    },
    {
      "cell_type": "markdown",
      "metadata": {
        "id": "_673nnSNB1lh",
        "colab_type": "text"
      },
      "source": [
        "## function to split column with multiple data into single data "
      ]
    },
    {
      "cell_type": "code",
      "metadata": {
        "id": "aza5mFrCAR3I",
        "colab_type": "code",
        "colab": {}
      },
      "source": [
        "def split_column(x):\n",
        "  x = x.str.split(\"|\", n = -1, expand = True) \n",
        "  return x\n"
      ],
      "execution_count": 9,
      "outputs": []
    },
    {
      "cell_type": "code",
      "metadata": {
        "id": "5WNA96GO9CiO",
        "colab_type": "code",
        "colab": {
          "base_uri": "https://localhost:8080/",
          "height": 54
        },
        "outputId": "98072f46-55af-4635-c448-7c3567e902e2"
      },
      "source": [
        "## calculate mode\n",
        "print(cal_mode(split_column(df['production_companies'])))\n"
      ],
      "execution_count": 10,
      "outputs": [
        {
          "output_type": "stream",
          "text": [
            "0    Universal Pictures\n",
            "Name: 0, dtype: object\n"
          ],
          "name": "stdout"
        }
      ]
    },
    {
      "cell_type": "markdown",
      "metadata": {
        "id": "SeSlMnmEA4_c",
        "colab_type": "text"
      },
      "source": [
        "## fill nan value with mode \n",
        "\n",
        "* production_companies <p> Universal Pictures </p> \n",
        "\n",
        "* cast                 <p> Nicolas Cage </p>   \n",
        "* director             <p>  Woody Allen </p>  \n",
        "* genres               <p>  Drama </p> "
      ]
    },
    {
      "cell_type": "code",
      "metadata": {
        "id": "K8BSnvGiA4B7",
        "colab_type": "code",
        "colab": {}
      },
      "source": [
        "mode_production_company = cal_mode(split_column(df['production_companies']))\n",
        "mode_director = cal_mode(split_column(df['director']))\n",
        "mode_cast = cal_mode(split_column(df['cast']))\n",
        "mode_genres = cal_mode(split_column(df['genres']))\n",
        "\n",
        "df['production_companies'].fillna(value = mode_production_company[0], inplace = True)\n",
        "df['cast'].fillna(value = mode_cast[0], inplace = True)\n",
        "df['director'].fillna(value = mode_director[0], inplace = True)\n",
        "df['genres'].fillna(value = mode_genres[0], inplace = True)\n",
        "\n"
      ],
      "execution_count": 11,
      "outputs": []
    },
    {
      "cell_type": "code",
      "metadata": {
        "id": "ziWNHN9-ENWk",
        "colab_type": "code",
        "colab": {
          "base_uri": "https://localhost:8080/",
          "height": 279
        },
        "outputId": "e445c0e1-a9be-4cae-a0fa-d671d5042533"
      },
      "source": [
        "df.isnull().sum().sort_values(ascending = False)"
      ],
      "execution_count": 12,
      "outputs": [
        {
          "output_type": "execute_result",
          "data": {
            "text/plain": [
              "release_year            0\n",
              "vote_average            0\n",
              "vote_count              0\n",
              "release_date            0\n",
              "production_companies    0\n",
              "genres                  0\n",
              "runtime                 0\n",
              "director                0\n",
              "cast                    0\n",
              "original_title          0\n",
              "revenue                 0\n",
              "budget                  0\n",
              "popularity              0\n",
              "dtype: int64"
            ]
          },
          "metadata": {
            "tags": []
          },
          "execution_count": 12
        }
      ]
    },
    {
      "cell_type": "markdown",
      "metadata": {
        "id": "Y0Lo2yQdl_2C",
        "colab_type": "text"
      },
      "source": [
        "> **Tip**: You should _not_ perform too many operations in each cell. Create cells freely to explore your data. One option that you can take with this project is to do a lot of explorations in an initial notebook. These don't have to be organized, but make sure you use enough comments to understand the purpose of each code cell. Then, after you're done with your analysis, create a duplicate notebook where you will trim the excess and organize your steps so that you have a flowing, cohesive report.\n",
        "\n",
        "> **Tip**: Make sure that you keep your reader informed on the steps that you are taking in your investigation. Follow every code cell, or every set of related code cells, with a markdown cell to describe to the reader what was found in the preceding cell(s). Try to make it so that the reader can then understand what they will be seeing in the following cell(s).\n",
        "\n",
        "### Data Cleaning (Replace this with more specific notes!)"
      ]
    },
    {
      "cell_type": "markdown",
      "metadata": {
        "id": "YywW9msSj2vF",
        "colab_type": "text"
      },
      "source": [
        "## drop duplicated"
      ]
    },
    {
      "cell_type": "code",
      "metadata": {
        "id": "b8G1C_PRj6a6",
        "colab_type": "code",
        "colab": {
          "base_uri": "https://localhost:8080/",
          "height": 36
        },
        "outputId": "e4ae98dd-4363-4c68-c752-5bc055ebc0d5"
      },
      "source": [
        "print(\"sum of the duplicated data is : \", sum(df.duplicated()))"
      ],
      "execution_count": 13,
      "outputs": [
        {
          "output_type": "stream",
          "text": [
            "sum of the duplicated data is :  1\n"
          ],
          "name": "stdout"
        }
      ]
    },
    {
      "cell_type": "code",
      "metadata": {
        "id": "GEYrh_7PkFlW",
        "colab_type": "code",
        "colab": {
          "base_uri": "https://localhost:8080/",
          "height": 36
        },
        "outputId": "cbb2dff4-7cbf-49cf-a3a2-ce741681929c"
      },
      "source": [
        "df.drop_duplicates(inplace= True)\n",
        "print(\"sum of the duplicated data is : \", sum(df.duplicated()))"
      ],
      "execution_count": 14,
      "outputs": [
        {
          "output_type": "stream",
          "text": [
            "sum of the duplicated data is :  0\n"
          ],
          "name": "stdout"
        }
      ]
    },
    {
      "cell_type": "markdown",
      "metadata": {
        "id": "jZjbr_tJkO0P",
        "colab_type": "text"
      },
      "source": [
        "## fill non value with mean"
      ]
    },
    {
      "cell_type": "code",
      "metadata": {
        "id": "qjZRJOC4yFOZ",
        "colab_type": "code",
        "colab": {
          "base_uri": "https://localhost:8080/",
          "height": 279
        },
        "outputId": "2cd83594-159b-4329-c5de-0f405a05bbb5"
      },
      "source": [
        "df.isnull().sum()"
      ],
      "execution_count": 15,
      "outputs": [
        {
          "output_type": "execute_result",
          "data": {
            "text/plain": [
              "popularity              0\n",
              "budget                  0\n",
              "revenue                 0\n",
              "original_title          0\n",
              "cast                    0\n",
              "director                0\n",
              "runtime                 0\n",
              "genres                  0\n",
              "production_companies    0\n",
              "release_date            0\n",
              "vote_count              0\n",
              "vote_average            0\n",
              "release_year            0\n",
              "dtype: int64"
            ]
          },
          "metadata": {
            "tags": []
          },
          "execution_count": 15
        }
      ]
    },
    {
      "cell_type": "code",
      "metadata": {
        "id": "Ye8c11DRyRyo",
        "colab_type": "code",
        "colab": {
          "base_uri": "https://localhost:8080/",
          "height": 354
        },
        "outputId": "8b960eaa-e833-49b1-919a-273716222be1"
      },
      "source": [
        "df.replace(0,np.nan)\n",
        "df.head(3)"
      ],
      "execution_count": 16,
      "outputs": [
        {
          "output_type": "execute_result",
          "data": {
            "text/html": [
              "<div>\n",
              "<style scoped>\n",
              "    .dataframe tbody tr th:only-of-type {\n",
              "        vertical-align: middle;\n",
              "    }\n",
              "\n",
              "    .dataframe tbody tr th {\n",
              "        vertical-align: top;\n",
              "    }\n",
              "\n",
              "    .dataframe thead th {\n",
              "        text-align: right;\n",
              "    }\n",
              "</style>\n",
              "<table border=\"1\" class=\"dataframe\">\n",
              "  <thead>\n",
              "    <tr style=\"text-align: right;\">\n",
              "      <th></th>\n",
              "      <th>popularity</th>\n",
              "      <th>budget</th>\n",
              "      <th>revenue</th>\n",
              "      <th>original_title</th>\n",
              "      <th>cast</th>\n",
              "      <th>director</th>\n",
              "      <th>runtime</th>\n",
              "      <th>genres</th>\n",
              "      <th>production_companies</th>\n",
              "      <th>release_date</th>\n",
              "      <th>vote_count</th>\n",
              "      <th>vote_average</th>\n",
              "      <th>release_year</th>\n",
              "    </tr>\n",
              "  </thead>\n",
              "  <tbody>\n",
              "    <tr>\n",
              "      <th>0</th>\n",
              "      <td>32.985763</td>\n",
              "      <td>150000000</td>\n",
              "      <td>1513528810</td>\n",
              "      <td>Jurassic World</td>\n",
              "      <td>Chris Pratt|Bryce Dallas Howard|Irrfan Khan|Vi...</td>\n",
              "      <td>Colin Trevorrow</td>\n",
              "      <td>124</td>\n",
              "      <td>Action|Adventure|Science Fiction|Thriller</td>\n",
              "      <td>Universal Studios|Amblin Entertainment|Legenda...</td>\n",
              "      <td>6/9/15</td>\n",
              "      <td>5562</td>\n",
              "      <td>6.5</td>\n",
              "      <td>2015</td>\n",
              "    </tr>\n",
              "    <tr>\n",
              "      <th>1</th>\n",
              "      <td>28.419936</td>\n",
              "      <td>150000000</td>\n",
              "      <td>378436354</td>\n",
              "      <td>Mad Max: Fury Road</td>\n",
              "      <td>Tom Hardy|Charlize Theron|Hugh Keays-Byrne|Nic...</td>\n",
              "      <td>George Miller</td>\n",
              "      <td>120</td>\n",
              "      <td>Action|Adventure|Science Fiction|Thriller</td>\n",
              "      <td>Village Roadshow Pictures|Kennedy Miller Produ...</td>\n",
              "      <td>5/13/15</td>\n",
              "      <td>6185</td>\n",
              "      <td>7.1</td>\n",
              "      <td>2015</td>\n",
              "    </tr>\n",
              "    <tr>\n",
              "      <th>2</th>\n",
              "      <td>13.112507</td>\n",
              "      <td>110000000</td>\n",
              "      <td>295238201</td>\n",
              "      <td>Insurgent</td>\n",
              "      <td>Shailene Woodley|Theo James|Kate Winslet|Ansel...</td>\n",
              "      <td>Robert Schwentke</td>\n",
              "      <td>119</td>\n",
              "      <td>Adventure|Science Fiction|Thriller</td>\n",
              "      <td>Summit Entertainment|Mandeville Films|Red Wago...</td>\n",
              "      <td>3/18/15</td>\n",
              "      <td>2480</td>\n",
              "      <td>6.3</td>\n",
              "      <td>2015</td>\n",
              "    </tr>\n",
              "  </tbody>\n",
              "</table>\n",
              "</div>"
            ],
            "text/plain": [
              "   popularity     budget     revenue  ... vote_count vote_average release_year\n",
              "0   32.985763  150000000  1513528810  ...       5562          6.5         2015\n",
              "1   28.419936  150000000   378436354  ...       6185          7.1         2015\n",
              "2   13.112507  110000000   295238201  ...       2480          6.3         2015\n",
              "\n",
              "[3 rows x 13 columns]"
            ]
          },
          "metadata": {
            "tags": []
          },
          "execution_count": 16
        }
      ]
    },
    {
      "cell_type": "code",
      "metadata": {
        "id": "LandBmaPlnts",
        "colab_type": "code",
        "colab": {
          "base_uri": "https://localhost:8080/",
          "height": 279
        },
        "outputId": "66e9654d-71c6-4cbf-d949-7c5fa041b1bf"
      },
      "source": [
        "df.dropna(inplace=True)\n",
        "df.isnull().sum()"
      ],
      "execution_count": 17,
      "outputs": [
        {
          "output_type": "execute_result",
          "data": {
            "text/plain": [
              "popularity              0\n",
              "budget                  0\n",
              "revenue                 0\n",
              "original_title          0\n",
              "cast                    0\n",
              "director                0\n",
              "runtime                 0\n",
              "genres                  0\n",
              "production_companies    0\n",
              "release_date            0\n",
              "vote_count              0\n",
              "vote_average            0\n",
              "release_year            0\n",
              "dtype: int64"
            ]
          },
          "metadata": {
            "tags": []
          },
          "execution_count": 17
        }
      ]
    },
    {
      "cell_type": "code",
      "metadata": {
        "id": "uB0p3mciywlv",
        "colab_type": "code",
        "colab": {
          "base_uri": "https://localhost:8080/",
          "height": 392
        },
        "outputId": "aed76540-47c0-4bcc-dd9d-279d3eb4837b"
      },
      "source": [
        "df.info()"
      ],
      "execution_count": 18,
      "outputs": [
        {
          "output_type": "stream",
          "text": [
            "<class 'pandas.core.frame.DataFrame'>\n",
            "Int64Index: 10865 entries, 0 to 10865\n",
            "Data columns (total 13 columns):\n",
            " #   Column                Non-Null Count  Dtype  \n",
            "---  ------                --------------  -----  \n",
            " 0   popularity            10865 non-null  float64\n",
            " 1   budget                10865 non-null  int64  \n",
            " 2   revenue               10865 non-null  int64  \n",
            " 3   original_title        10865 non-null  object \n",
            " 4   cast                  10865 non-null  object \n",
            " 5   director              10865 non-null  object \n",
            " 6   runtime               10865 non-null  int64  \n",
            " 7   genres                10865 non-null  object \n",
            " 8   production_companies  10865 non-null  object \n",
            " 9   release_date          10865 non-null  object \n",
            " 10  vote_count            10865 non-null  int64  \n",
            " 11  vote_average          10865 non-null  float64\n",
            " 12  release_year          10865 non-null  int64  \n",
            "dtypes: float64(2), int64(5), object(6)\n",
            "memory usage: 1.2+ MB\n"
          ],
          "name": "stdout"
        }
      ]
    },
    {
      "cell_type": "code",
      "metadata": {
        "id": "ImYskHpozg8I",
        "colab_type": "code",
        "colab": {
          "base_uri": "https://localhost:8080/",
          "height": 36
        },
        "outputId": "8a4c68d3-f1ad-4933-fd17-d83d995bd2a2"
      },
      "source": [
        "print(df.shape)"
      ],
      "execution_count": 19,
      "outputs": [
        {
          "output_type": "stream",
          "text": [
            "(10865, 13)\n"
          ],
          "name": "stdout"
        }
      ]
    },
    {
      "cell_type": "markdown",
      "metadata": {
        "id": "2olcNeYCmRyt",
        "colab_type": "text"
      },
      "source": [
        "## fix data format"
      ]
    },
    {
      "cell_type": "code",
      "metadata": {
        "id": "UDNzJjFAmWDU",
        "colab_type": "code",
        "colab": {
          "base_uri": "https://localhost:8080/",
          "height": 545
        },
        "outputId": "88c4ff16-6e89-44ae-fba4-7f49ab191f8f"
      },
      "source": [
        "df.info()\n",
        "df.head(1)"
      ],
      "execution_count": 20,
      "outputs": [
        {
          "output_type": "stream",
          "text": [
            "<class 'pandas.core.frame.DataFrame'>\n",
            "Int64Index: 10865 entries, 0 to 10865\n",
            "Data columns (total 13 columns):\n",
            " #   Column                Non-Null Count  Dtype  \n",
            "---  ------                --------------  -----  \n",
            " 0   popularity            10865 non-null  float64\n",
            " 1   budget                10865 non-null  int64  \n",
            " 2   revenue               10865 non-null  int64  \n",
            " 3   original_title        10865 non-null  object \n",
            " 4   cast                  10865 non-null  object \n",
            " 5   director              10865 non-null  object \n",
            " 6   runtime               10865 non-null  int64  \n",
            " 7   genres                10865 non-null  object \n",
            " 8   production_companies  10865 non-null  object \n",
            " 9   release_date          10865 non-null  object \n",
            " 10  vote_count            10865 non-null  int64  \n",
            " 11  vote_average          10865 non-null  float64\n",
            " 12  release_year          10865 non-null  int64  \n",
            "dtypes: float64(2), int64(5), object(6)\n",
            "memory usage: 1.2+ MB\n"
          ],
          "name": "stdout"
        },
        {
          "output_type": "execute_result",
          "data": {
            "text/html": [
              "<div>\n",
              "<style scoped>\n",
              "    .dataframe tbody tr th:only-of-type {\n",
              "        vertical-align: middle;\n",
              "    }\n",
              "\n",
              "    .dataframe tbody tr th {\n",
              "        vertical-align: top;\n",
              "    }\n",
              "\n",
              "    .dataframe thead th {\n",
              "        text-align: right;\n",
              "    }\n",
              "</style>\n",
              "<table border=\"1\" class=\"dataframe\">\n",
              "  <thead>\n",
              "    <tr style=\"text-align: right;\">\n",
              "      <th></th>\n",
              "      <th>popularity</th>\n",
              "      <th>budget</th>\n",
              "      <th>revenue</th>\n",
              "      <th>original_title</th>\n",
              "      <th>cast</th>\n",
              "      <th>director</th>\n",
              "      <th>runtime</th>\n",
              "      <th>genres</th>\n",
              "      <th>production_companies</th>\n",
              "      <th>release_date</th>\n",
              "      <th>vote_count</th>\n",
              "      <th>vote_average</th>\n",
              "      <th>release_year</th>\n",
              "    </tr>\n",
              "  </thead>\n",
              "  <tbody>\n",
              "    <tr>\n",
              "      <th>0</th>\n",
              "      <td>32.985763</td>\n",
              "      <td>150000000</td>\n",
              "      <td>1513528810</td>\n",
              "      <td>Jurassic World</td>\n",
              "      <td>Chris Pratt|Bryce Dallas Howard|Irrfan Khan|Vi...</td>\n",
              "      <td>Colin Trevorrow</td>\n",
              "      <td>124</td>\n",
              "      <td>Action|Adventure|Science Fiction|Thriller</td>\n",
              "      <td>Universal Studios|Amblin Entertainment|Legenda...</td>\n",
              "      <td>6/9/15</td>\n",
              "      <td>5562</td>\n",
              "      <td>6.5</td>\n",
              "      <td>2015</td>\n",
              "    </tr>\n",
              "  </tbody>\n",
              "</table>\n",
              "</div>"
            ],
            "text/plain": [
              "   popularity     budget     revenue  ... vote_count vote_average release_year\n",
              "0   32.985763  150000000  1513528810  ...       5562          6.5         2015\n",
              "\n",
              "[1 rows x 13 columns]"
            ]
          },
          "metadata": {
            "tags": []
          },
          "execution_count": 20
        }
      ]
    },
    {
      "cell_type": "markdown",
      "metadata": {
        "id": "vQ-n3p_7RH-a",
        "colab_type": "text"
      },
      "source": [
        "## function to convert date into object"
      ]
    },
    {
      "cell_type": "code",
      "metadata": {
        "id": "tMROEsXrnX__",
        "colab_type": "code",
        "colab": {
          "base_uri": "https://localhost:8080/",
          "height": 81
        },
        "outputId": "823d369e-8d0c-4737-a028-34a5caac8494"
      },
      "source": [
        "date = df[['release_date','release_year']].copy()\n",
        "date[['month','day','bad_year']] = date.release_date.str.split(\"/\",expand=True) \n",
        "date[\"release_year\"] = date[\"release_year\"].astype(str)\n",
        "date['date'] = date['release_year'] + '-' + date['month'] + '-' + date['day']\n",
        "date['date'] = pd.to_datetime(date['date'])\n",
        "date.head(1)\n"
      ],
      "execution_count": 21,
      "outputs": [
        {
          "output_type": "execute_result",
          "data": {
            "text/html": [
              "<div>\n",
              "<style scoped>\n",
              "    .dataframe tbody tr th:only-of-type {\n",
              "        vertical-align: middle;\n",
              "    }\n",
              "\n",
              "    .dataframe tbody tr th {\n",
              "        vertical-align: top;\n",
              "    }\n",
              "\n",
              "    .dataframe thead th {\n",
              "        text-align: right;\n",
              "    }\n",
              "</style>\n",
              "<table border=\"1\" class=\"dataframe\">\n",
              "  <thead>\n",
              "    <tr style=\"text-align: right;\">\n",
              "      <th></th>\n",
              "      <th>release_date</th>\n",
              "      <th>release_year</th>\n",
              "      <th>month</th>\n",
              "      <th>day</th>\n",
              "      <th>bad_year</th>\n",
              "      <th>date</th>\n",
              "    </tr>\n",
              "  </thead>\n",
              "  <tbody>\n",
              "    <tr>\n",
              "      <th>0</th>\n",
              "      <td>6/9/15</td>\n",
              "      <td>2015</td>\n",
              "      <td>6</td>\n",
              "      <td>9</td>\n",
              "      <td>15</td>\n",
              "      <td>2015-06-09</td>\n",
              "    </tr>\n",
              "  </tbody>\n",
              "</table>\n",
              "</div>"
            ],
            "text/plain": [
              "  release_date release_year month day bad_year       date\n",
              "0       6/9/15         2015     6   9       15 2015-06-09"
            ]
          },
          "metadata": {
            "tags": []
          },
          "execution_count": 21
        }
      ]
    },
    {
      "cell_type": "code",
      "metadata": {
        "id": "C4UQ188eqIsD",
        "colab_type": "code",
        "colab": {
          "base_uri": "https://localhost:8080/",
          "height": 148
        },
        "outputId": "dbd2290d-ab9f-42d6-b944-7d43530a9803"
      },
      "source": [
        "date.dtypes\n",
        "\n"
      ],
      "execution_count": 22,
      "outputs": [
        {
          "output_type": "execute_result",
          "data": {
            "text/plain": [
              "release_date            object\n",
              "release_year            object\n",
              "month                   object\n",
              "day                     object\n",
              "bad_year                object\n",
              "date            datetime64[ns]\n",
              "dtype: object"
            ]
          },
          "metadata": {
            "tags": []
          },
          "execution_count": 22
        }
      ]
    },
    {
      "cell_type": "markdown",
      "metadata": {
        "id": "nvtaOQpT0B9r",
        "colab_type": "text"
      },
      "source": [
        "## check some info about data"
      ]
    },
    {
      "cell_type": "code",
      "metadata": {
        "id": "yK26EyyH0K0R",
        "colab_type": "code",
        "colab": {
          "base_uri": "https://localhost:8080/",
          "height": 36
        },
        "outputId": "de7120a0-6177-4bc2-cefc-f243d7e6605a"
      },
      "source": [
        "print(\"sum of duplicated data : \" ,sum(df.duplicated()))"
      ],
      "execution_count": 23,
      "outputs": [
        {
          "output_type": "stream",
          "text": [
            "sum of duplicated data :  0\n"
          ],
          "name": "stdout"
        }
      ]
    },
    {
      "cell_type": "code",
      "metadata": {
        "id": "QBLFF2Te0f6W",
        "colab_type": "code",
        "colab": {
          "base_uri": "https://localhost:8080/",
          "height": 170
        },
        "outputId": "8ca3f6d6-5cff-419a-8137-4681569cee81"
      },
      "source": [
        "df.head(1)"
      ],
      "execution_count": 24,
      "outputs": [
        {
          "output_type": "execute_result",
          "data": {
            "text/html": [
              "<div>\n",
              "<style scoped>\n",
              "    .dataframe tbody tr th:only-of-type {\n",
              "        vertical-align: middle;\n",
              "    }\n",
              "\n",
              "    .dataframe tbody tr th {\n",
              "        vertical-align: top;\n",
              "    }\n",
              "\n",
              "    .dataframe thead th {\n",
              "        text-align: right;\n",
              "    }\n",
              "</style>\n",
              "<table border=\"1\" class=\"dataframe\">\n",
              "  <thead>\n",
              "    <tr style=\"text-align: right;\">\n",
              "      <th></th>\n",
              "      <th>popularity</th>\n",
              "      <th>budget</th>\n",
              "      <th>revenue</th>\n",
              "      <th>original_title</th>\n",
              "      <th>cast</th>\n",
              "      <th>director</th>\n",
              "      <th>runtime</th>\n",
              "      <th>genres</th>\n",
              "      <th>production_companies</th>\n",
              "      <th>release_date</th>\n",
              "      <th>vote_count</th>\n",
              "      <th>vote_average</th>\n",
              "      <th>release_year</th>\n",
              "    </tr>\n",
              "  </thead>\n",
              "  <tbody>\n",
              "    <tr>\n",
              "      <th>0</th>\n",
              "      <td>32.985763</td>\n",
              "      <td>150000000</td>\n",
              "      <td>1513528810</td>\n",
              "      <td>Jurassic World</td>\n",
              "      <td>Chris Pratt|Bryce Dallas Howard|Irrfan Khan|Vi...</td>\n",
              "      <td>Colin Trevorrow</td>\n",
              "      <td>124</td>\n",
              "      <td>Action|Adventure|Science Fiction|Thriller</td>\n",
              "      <td>Universal Studios|Amblin Entertainment|Legenda...</td>\n",
              "      <td>6/9/15</td>\n",
              "      <td>5562</td>\n",
              "      <td>6.5</td>\n",
              "      <td>2015</td>\n",
              "    </tr>\n",
              "  </tbody>\n",
              "</table>\n",
              "</div>"
            ],
            "text/plain": [
              "   popularity     budget     revenue  ... vote_count vote_average release_year\n",
              "0   32.985763  150000000  1513528810  ...       5562          6.5         2015\n",
              "\n",
              "[1 rows x 13 columns]"
            ]
          },
          "metadata": {
            "tags": []
          },
          "execution_count": 24
        }
      ]
    },
    {
      "cell_type": "code",
      "metadata": {
        "id": "JovraNJi4H3p",
        "colab_type": "code",
        "colab": {}
      },
      "source": [
        "df.to_csv('clean_data.csv' ,index=False)"
      ],
      "execution_count": 25,
      "outputs": []
    },
    {
      "cell_type": "markdown",
      "metadata": {
        "id": "X6y5cVUTF3kL",
        "colab_type": "text"
      },
      "source": [
        "## data visualization  using single-variable\n",
        "\n",
        "* draw director & vote_count\n",
        "* popularity & budget\n",
        "* runtime & popularity"
      ]
    },
    {
      "cell_type": "code",
      "metadata": {
        "id": "RMAwebGXG_HS",
        "colab_type": "code",
        "colab": {
          "base_uri": "https://localhost:8080/",
          "height": 829
        },
        "outputId": "7cdb64cb-121f-41fd-bc43-6b25a0dcfdc4"
      },
      "source": [
        "plt.figure(figsize=(15,15))\n",
        "plt.grid()\n",
        "plt.xlabel('Boxblot' , color = 'red')\n",
        "plt.ylabel('runtime' , color = 'red')\n",
        "plt.title('distributed runtime over boxplot')\n",
        "plt.yticks([i for i in range(0,500,50)])\n",
        "plt.boxplot(df['runtime'])\n",
        "plt.show()"
      ],
      "execution_count": 26,
      "outputs": [
        {
          "output_type": "display_data",
          "data": {
            "image/png": "[encoded data removed]",
            "text/plain": [
              "<Figure size 1080x1080 with 1 Axes>"
            ]
          },
          "metadata": {
            "tags": [],
            "needs_background": "light"
          }
        }
      ]
    },
    {
      "cell_type": "markdown",
      "metadata": {
        "id": "30z9YP5eKR2U",
        "colab_type": "text"
      },
      "source": [
        "<h1> summary of this boxblot </h1>\n",
        "\n",
        "## 75% from runtime is between (60,110)\n",
        "## 25% from runtime is between(110,140)"
      ]
    },
    {
      "cell_type": "code",
      "metadata": {
        "id": "XdZcnrUlM_wx",
        "colab_type": "code",
        "colab": {
          "base_uri": "https://localhost:8080/",
          "height": 186
        },
        "outputId": "b641901a-b98b-4f46-dd32-12cc2e22d23c"
      },
      "source": [
        "df['vote_average'].value_counts().describe()"
      ],
      "execution_count": 27,
      "outputs": [
        {
          "output_type": "execute_result",
          "data": {
            "text/plain": [
              "count     72.000000\n",
              "mean     150.902778\n",
              "std      169.668455\n",
              "min        1.000000\n",
              "25%        9.000000\n",
              "50%       62.000000\n",
              "75%      284.250000\n",
              "max      496.000000\n",
              "Name: vote_average, dtype: float64"
            ]
          },
          "metadata": {
            "tags": []
          },
          "execution_count": 27
        }
      ]
    },
    {
      "cell_type": "markdown",
      "metadata": {
        "id": "g8y3g1nvihIB",
        "colab_type": "text"
      },
      "source": [
        "<a id='eda'></a>\n",
        "## Exploratory Data Analysis\n",
        "\n",
        "> **Tip**: Now that you've trimmed and cleaned your data, you're ready to move on to exploration. Compute statistics and create visualizations with the goal of addressing the research questions that you posed in the Introduction section. It is recommended that you be systematic with your approach. Look at one variable at a time, and then follow it up by looking at relationships between variables.\n",
        "\n",
        "### Research Question 1 (what is number of filw to director Colin Trevorrow )"
      ]
    },
    {
      "cell_type": "code",
      "metadata": {
        "id": "MV8hzLb30esS",
        "colab_type": "code",
        "colab": {
          "base_uri": "https://localhost:8080/",
          "height": 36
        },
        "outputId": "62c24c8a-fe4b-4e1c-dd40-cca786670368"
      },
      "source": [
        "data = df.query('director == \"Colin Trevorrow\"')\n",
        "print(\"number of films which director Colin Trevorrow make : \",len(data))"
      ],
      "execution_count": 28,
      "outputs": [
        {
          "output_type": "stream",
          "text": [
            "number of films which director Colin Trevorrow make :  2\n"
          ],
          "name": "stdout"
        }
      ]
    },
    {
      "cell_type": "markdown",
      "metadata": {
        "id": "d7yxuVHoOU95",
        "colab_type": "text"
      },
      "source": [
        "## this cell give number of films which Colin Trevorrow director has made \n",
        "* answer : 2 "
      ]
    },
    {
      "cell_type": "markdown",
      "metadata": {
        "id": "JYqKfBtBihIT",
        "colab_type": "text"
      },
      "source": [
        "### Research Question 2  (what is the best director have high revenue?)\n",
        "\n"
      ]
    },
    {
      "cell_type": "code",
      "metadata": {
        "id": "NAl0oci16478",
        "colab_type": "code",
        "colab": {
          "base_uri": "https://localhost:8080/",
          "height": 36
        },
        "outputId": "1b007e5e-8a59-4e33-e53d-cfb5728cae6e"
      },
      "source": [
        "x = []\n",
        "max_revenue = df.query(' revenue == revenue.max()')\n",
        "x = list(max_revenue['director'])\n",
        "print(\"the best director achieve large revenue is : \" ,x[0])\n"
      ],
      "execution_count": 29,
      "outputs": [
        {
          "output_type": "stream",
          "text": [
            "the best director achieve large revenue is :  James Cameron\n"
          ],
          "name": "stdout"
        }
      ]
    },
    {
      "cell_type": "markdown",
      "metadata": {
        "id": "IlaLdE4_Ob4X",
        "colab_type": "text"
      },
      "source": [
        "### this cell return best director which have high revenue\n",
        "\n",
        "* answer : James Cameron"
      ]
    },
    {
      "cell_type": "markdown",
      "metadata": {
        "id": "Cqm9Tued-zoe",
        "colab_type": "text"
      },
      "source": [
        "### Research Question 3 (what is the name of the film which have large run time?) "
      ]
    },
    {
      "cell_type": "code",
      "metadata": {
        "id": "e7nUAT6q_ClI",
        "colab_type": "code",
        "colab": {
          "base_uri": "https://localhost:8080/",
          "height": 36
        },
        "outputId": "7f82193a-86e1-43b3-99ec-6aac22ee0b61"
      },
      "source": [
        "max_run_time = df[df['runtime'] == df['runtime'].max()]\n",
        "name = list(max_run_time['original_title'])\n",
        "print(\"the name of the film which have large run time is : \" ,name[0][19:])\n",
        "\n"
      ],
      "execution_count": 30,
      "outputs": [
        {
          "output_type": "stream",
          "text": [
            "the name of the film which have large run time is :  An Odyssey\n"
          ],
          "name": "stdout"
        }
      ]
    },
    {
      "cell_type": "markdown",
      "metadata": {
        "id": "n-XD5k5yOkun",
        "colab_type": "text"
      },
      "source": [
        "### this cell return the film which have high runtime\n",
        "\n",
        "* answer : An Odyssey\n"
      ]
    },
    {
      "cell_type": "markdown",
      "metadata": {
        "id": "pX7PX4o1EFeK",
        "colab_type": "text"
      },
      "source": [
        "### Research Question 4 (what is the high run time?) "
      ]
    },
    {
      "cell_type": "code",
      "metadata": {
        "id": "ja2SQToSEAf7",
        "colab_type": "code",
        "colab": {
          "base_uri": "https://localhost:8080/",
          "height": 36
        },
        "outputId": "237b21ef-fcda-4050-d0c7-b7c998b66825"
      },
      "source": [
        "time = list(max_run_time['runtime'])\n",
        "print(\"the most film have large run time is : \" + str(time[0]) + \" minutes\")\n"
      ],
      "execution_count": 31,
      "outputs": [
        {
          "output_type": "stream",
          "text": [
            "the most film have large run time is : 900 minutes\n"
          ],
          "name": "stdout"
        }
      ]
    },
    {
      "cell_type": "markdown",
      "metadata": {
        "id": "U-Q2IO-nO3jl",
        "colab_type": "text"
      },
      "source": [
        "### this cell return the  high runtime\n",
        "\n",
        "* answer : 900"
      ]
    },
    {
      "cell_type": "code",
      "metadata": {
        "id": "tcRoZmuYAily",
        "colab_type": "code",
        "colab": {
          "base_uri": "https://localhost:8080/",
          "height": 36
        },
        "outputId": "9fa4418a-7f36-4cdf-ef32-915921c1b7cb"
      },
      "source": [
        "df.runtime.max()"
      ],
      "execution_count": 32,
      "outputs": [
        {
          "output_type": "execute_result",
          "data": {
            "text/plain": [
              "900"
            ]
          },
          "metadata": {
            "tags": []
          },
          "execution_count": 32
        }
      ]
    },
    {
      "cell_type": "code",
      "metadata": {
        "id": "1sTOQiDf28tl",
        "colab_type": "code",
        "colab": {
          "base_uri": "https://localhost:8080/",
          "height": 902
        },
        "outputId": "dfed9907-bf8f-4b82-ef46-9c2311b349bc"
      },
      "source": [
        "\n",
        "plt.figure(figsize=(15,15))\n",
        "plt.yticks([i for i in range(0,3000,100)])\n",
        "df['genres'] = split_column(df['genres'])\n",
        "df['genres'].value_counts().plot(kind = 'bar' ,title='frequecy of geners')\n",
        "plt.grid()\n",
        "plt.xlabel('name of geners' , color = 'red')\n",
        "plt.ylabel('frequency of geners' , color = 'red')"
      ],
      "execution_count": 33,
      "outputs": [
        {
          "output_type": "execute_result",
          "data": {
            "text/plain": [
              "Text(0, 0.5, 'frequency of geners')"
            ]
          },
          "metadata": {
            "tags": []
          },
          "execution_count": 33
        },
        {
          "output_type": "display_data",
          "data": {
            "image/png": "[encoded data removed]",
            "text/plain": [
              "<Figure size 1080x1080 with 1 Axes>"
            ]
          },
          "metadata": {
            "tags": [],
            "needs_background": "light"
          }
        }
      ]
    },
    {
      "cell_type": "markdown",
      "metadata": {
        "id": "9TjztG4-QGh7",
        "colab_type": "text"
      },
      "source": [
        "## this cell give summary about best genres\n",
        "* drama has higest frequency (2450)\n",
        "* foreign has lowest frequency (10)"
      ]
    },
    {
      "cell_type": "markdown",
      "metadata": {
        "id": "lFJKbYEaP03E",
        "colab_type": "text"
      },
      "source": [
        "## i want to know correlation between column \n",
        "- 1 positive correlation \n",
        "\n",
        "- -1 negative coorelation \n",
        "\n",
        "- 0 symetric"
      ]
    },
    {
      "cell_type": "code",
      "metadata": {
        "id": "926TajJDPoSZ",
        "colab_type": "code",
        "colab": {
          "base_uri": "https://localhost:8080/",
          "height": 269
        },
        "outputId": "dceb8cf1-25e7-4eed-c387-81056cd13b62"
      },
      "source": [
        "df.corr()"
      ],
      "execution_count": 34,
      "outputs": [
        {
          "output_type": "execute_result",
          "data": {
            "text/html": [
              "<div>\n",
              "<style scoped>\n",
              "    .dataframe tbody tr th:only-of-type {\n",
              "        vertical-align: middle;\n",
              "    }\n",
              "\n",
              "    .dataframe tbody tr th {\n",
              "        vertical-align: top;\n",
              "    }\n",
              "\n",
              "    .dataframe thead th {\n",
              "        text-align: right;\n",
              "    }\n",
              "</style>\n",
              "<table border=\"1\" class=\"dataframe\">\n",
              "  <thead>\n",
              "    <tr style=\"text-align: right;\">\n",
              "      <th></th>\n",
              "      <th>popularity</th>\n",
              "      <th>budget</th>\n",
              "      <th>revenue</th>\n",
              "      <th>runtime</th>\n",
              "      <th>vote_count</th>\n",
              "      <th>vote_average</th>\n",
              "      <th>release_year</th>\n",
              "    </tr>\n",
              "  </thead>\n",
              "  <tbody>\n",
              "    <tr>\n",
              "      <th>popularity</th>\n",
              "      <td>1.000000</td>\n",
              "      <td>0.545481</td>\n",
              "      <td>0.663360</td>\n",
              "      <td>0.139032</td>\n",
              "      <td>0.800828</td>\n",
              "      <td>0.209517</td>\n",
              "      <td>0.089806</td>\n",
              "    </tr>\n",
              "    <tr>\n",
              "      <th>budget</th>\n",
              "      <td>0.545481</td>\n",
              "      <td>1.000000</td>\n",
              "      <td>0.734928</td>\n",
              "      <td>0.191300</td>\n",
              "      <td>0.632719</td>\n",
              "      <td>0.081067</td>\n",
              "      <td>0.115904</td>\n",
              "    </tr>\n",
              "    <tr>\n",
              "      <th>revenue</th>\n",
              "      <td>0.663360</td>\n",
              "      <td>0.734928</td>\n",
              "      <td>1.000000</td>\n",
              "      <td>0.162830</td>\n",
              "      <td>0.791174</td>\n",
              "      <td>0.172541</td>\n",
              "      <td>0.057070</td>\n",
              "    </tr>\n",
              "    <tr>\n",
              "      <th>runtime</th>\n",
              "      <td>0.139032</td>\n",
              "      <td>0.191300</td>\n",
              "      <td>0.162830</td>\n",
              "      <td>1.000000</td>\n",
              "      <td>0.163273</td>\n",
              "      <td>0.156813</td>\n",
              "      <td>-0.117187</td>\n",
              "    </tr>\n",
              "    <tr>\n",
              "      <th>vote_count</th>\n",
              "      <td>0.800828</td>\n",
              "      <td>0.632719</td>\n",
              "      <td>0.791174</td>\n",
              "      <td>0.163273</td>\n",
              "      <td>1.000000</td>\n",
              "      <td>0.253818</td>\n",
              "      <td>0.107962</td>\n",
              "    </tr>\n",
              "    <tr>\n",
              "      <th>vote_average</th>\n",
              "      <td>0.209517</td>\n",
              "      <td>0.081067</td>\n",
              "      <td>0.172541</td>\n",
              "      <td>0.156813</td>\n",
              "      <td>0.253818</td>\n",
              "      <td>1.000000</td>\n",
              "      <td>-0.117576</td>\n",
              "    </tr>\n",
              "    <tr>\n",
              "      <th>release_year</th>\n",
              "      <td>0.089806</td>\n",
              "      <td>0.115904</td>\n",
              "      <td>0.057070</td>\n",
              "      <td>-0.117187</td>\n",
              "      <td>0.107962</td>\n",
              "      <td>-0.117576</td>\n",
              "      <td>1.000000</td>\n",
              "    </tr>\n",
              "  </tbody>\n",
              "</table>\n",
              "</div>"
            ],
            "text/plain": [
              "              popularity    budget  ...  vote_average  release_year\n",
              "popularity      1.000000  0.545481  ...      0.209517      0.089806\n",
              "budget          0.545481  1.000000  ...      0.081067      0.115904\n",
              "revenue         0.663360  0.734928  ...      0.172541      0.057070\n",
              "runtime         0.139032  0.191300  ...      0.156813     -0.117187\n",
              "vote_count      0.800828  0.632719  ...      0.253818      0.107962\n",
              "vote_average    0.209517  0.081067  ...      1.000000     -0.117576\n",
              "release_year    0.089806  0.115904  ...     -0.117576      1.000000\n",
              "\n",
              "[7 rows x 7 columns]"
            ]
          },
          "metadata": {
            "tags": []
          },
          "execution_count": 34
        }
      ]
    },
    {
      "cell_type": "markdown",
      "metadata": {
        "id": "-QbrFCNlQGhd",
        "colab_type": "text"
      },
      "source": [
        "## draw heatmap\n",
        "- confusion matrix between column\n",
        "\n",
        "- this heat map show correlation between column and another \n"
      ]
    },
    {
      "cell_type": "code",
      "metadata": {
        "id": "iCowQyR_QKY-",
        "colab_type": "code",
        "colab": {
          "base_uri": "https://localhost:8080/",
          "height": 630
        },
        "outputId": "afe30fe8-7533-48bd-b65a-8e3af2e2eb57"
      },
      "source": [
        "fig, ax = plt.subplots(figsize=(15,10))         \n",
        "sns.heatmap(df.corr(), annot=True, fmt=\"f\",ax=ax)\n",
        "plt.title('correlation matrix for DataFrame')"
      ],
      "execution_count": 35,
      "outputs": [
        {
          "output_type": "execute_result",
          "data": {
            "text/plain": [
              "Text(0.5, 1.0, 'correlation matrix for DataFrame')"
            ]
          },
          "metadata": {
            "tags": []
          },
          "execution_count": 35
        },
        {
          "output_type": "display_data",
          "data": {
            "image/png": "[encoded data removed]",
            "text/plain": [
              "<Figure size 1080x720 with 2 Axes>"
            ]
          },
          "metadata": {
            "tags": [],
            "needs_background": "light"
          }
        }
      ]
    },
    {
      "cell_type": "markdown",
      "metadata": {
        "id": "Hc607AIwQglK",
        "colab_type": "text"
      },
      "source": [
        "## this cell give insight about correlation between column and other\n",
        "* corr between (1,-1)\n",
        "* high corr is 1 which have positive coreelation\n",
        "* low corellation have -1 which is negative "
      ]
    },
    {
      "cell_type": "markdown",
      "metadata": {
        "id": "zvoDUsTV4sP6",
        "colab_type": "text"
      },
      "source": [
        "## conclusion \n",
        "\n",
        "* first read data from link dataset (10866  row) with 21 column\n",
        "* i delete some column which i see it is unimportant\n",
        "* after this i fill value with nan value with (mode)\n",
        "* drop duplicated data from csv file\n",
        "* check to there is no nan value in this column\n",
        "* make some visualization on one variable data and multi variable\n",
        "* after this i make some question and i answer to it\n",
        "\n",
        "\n",
        "#### limitation\n",
        "\n",
        "* first there is 1030 nan value in row data  and i didn,t want to remove it so decide to fill data with mode \n",
        "\n",
        "* then split complex column into single value\n",
        "* take mode of column which have nan value \n",
        "\n",
        "<h1>  two solution is available to overcome nan value</h1>\n",
        "\n",
        "<li> drop row with nan value and this will reduce dataset</li>\n",
        "<li>  fill categorical data with mode which have high frequency</ki>\n",
        "\n",
        "* two solution is available and i can decide which i make"
      ]
    }
  ]
}