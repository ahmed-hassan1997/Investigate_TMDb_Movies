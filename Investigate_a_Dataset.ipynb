{
  "nbformat": 4,
  "nbformat_minor": 0,
  "metadata": {
    "kernelspec": {
      "display_name": "Python 3",
      "language": "python",
      "name": "python3"
    },
    "language_info": {
      "codemirror_mode": {
        "name": "ipython",
        "version": 3
      },
      "file_extension": ".py",
      "mimetype": "text/x-python",
      "name": "python",
      "nbconvert_exporter": "python",
      "pygments_lexer": "ipython3",
      "version": "3.6.3"
    },
    "colab": {
      "name": "Investigate_a_Dataset.ipynb",
      "provenance": [],
      "collapsed_sections": [],
      "toc_visible": true,
      "include_colab_link": true
    }
  },
  "cells": [
    {
      "cell_type": "markdown",
      "metadata": {
        "id": "view-in-github",
        "colab_type": "text"
      },
      "source": [
        "<a href=\"https://colab.research.google.com/github/ahmed-hassan1997/Investigate_TMDb_Movies/blob/master/Investigate_a_Dataset.ipynb\" target=\"_parent\"><img src=\"https://colab.research.google.com/assets/colab-badge.svg\" alt=\"Open In Colab\"/></a>"
      ]
    },
    {
      "cell_type": "markdown",
      "metadata": {
        "id": "Csr-pSRDihGn",
        "colab_type": "text"
      },
      "source": [
        "\n",
        "\n",
        "# Project:  Investigate_TMDb_Movies\n",
        "\n",
        "ahmed hassan \n",
        "\n",
        "- introduction\n",
        "\n",
        "In this project, you'll go through the data analysis process and see how everything fits together. Later Nanodegree projects will focus on individual pieces of the data analysis process.\n",
        "\n",
        "You'll use the Python libraries NumPy, pandas, and Matplotlib, which make writing data analysis code in Python a lot easier! Not only that, these are sought-after skills by employers!\n",
        "\n",
        "\n",
        "## Table of Contents\n",
        "<ul>\n",
        "<li><a href=\"#intro\">Introduction</a></li>\n",
        "<li><a href=\"cleaning\">data cleaning</a></li>\n",
        "<li><a href=\"#wrangling\">Data Wrangling</a></li>\n",
        "<li><a href=\"#eda\"> Data visualization</a></li>\n",
        "<li><a href=\"#conclusions\">Conclusions</a></li>\n",
        "</ul>"
      ]
    },
    {
      "cell_type": "markdown",
      "metadata": {
        "id": "W9axOjWbihGu",
        "colab_type": "text"
      },
      "source": [
        "<a id='question'></a>\n",
        "## question\n",
        "\n",
        "1- Q1: what is number of filw to director Colin Trevorrow?\n",
        "\n",
        "2- Q2: what is the best director have high revenue?\n",
        "\n",
        "3- Q3: what is the name of the film which have large run time?\n",
        "\n",
        "4- q4: what is the high run time?\n"
      ]
    },
    {
      "cell_type": "markdown",
      "metadata": {
        "id": "I9T8WuEYQZ6i",
        "colab_type": "text"
      },
      "source": [
        "## include important libraries for data analysis "
      ]
    },
    {
      "cell_type": "code",
      "metadata": {
        "id": "MIuup4eyihG2",
        "colab_type": "code",
        "colab": {
          "base_uri": "https://localhost:8080/",
          "height": 74
        },
        "outputId": "e3c535cb-b563-4fb5-b91b-bff0f6cecf31"
      },
      "source": [
        "# Use this cell to set up import statements for all of the packages that you\n",
        "#   plan to use.\n",
        "\n",
        "# Remember to include a 'magic word' so that your visualizations are plotted\n",
        "#   inline with the notebook. See this page for more:\n",
        "#   http://ipython.readthedocs.io/en/stable/interactive/magics.html\n",
        "\n",
        "import numpy as np \n",
        "import pandas as pd\n",
        "import matplotlib.pyplot as plt\n",
        "import seaborn as sns"
      ],
      "execution_count": null,
      "outputs": [
        {
          "output_type": "stream",
          "text": [
            "/usr/local/lib/python3.6/dist-packages/statsmodels/tools/_testing.py:19: FutureWarning: pandas.util.testing is deprecated. Use the functions in the public API at pandas.testing instead.\n",
            "  import pandas.util.testing as tm\n"
          ],
          "name": "stderr"
        }
      ]
    },
    {
      "cell_type": "markdown",
      "metadata": {
        "id": "LnyLLPMoihHX",
        "colab_type": "text"
      },
      "source": [
        "<a id='wrangling'></a>\n",
        "## Data Wrangling\n",
        "\n",
        "> **Tip**: In this section of the report, you will load in the data, check for cleanliness, and then trim and clean your dataset for analysis. Make sure that you document your steps carefully and justify your cleaning decisions.\n",
        "\n",
        "### General Properties"
      ]
    },
    {
      "cell_type": "markdown",
      "metadata": {
        "id": "XqQGTvr4RPpp",
        "colab_type": "text"
      },
      "source": [
        "## import data and look ahead"
      ]
    },
    {
      "cell_type": "code",
      "metadata": {
        "id": "pHpMUXxTRTbe",
        "colab_type": "code",
        "colab": {
          "base_uri": "https://localhost:8080/",
          "height": 271
        },
        "outputId": "0c5de4ac-294b-4dc9-914f-a51cd1bb65e0"
      },
      "source": [
        "df = pd.read_csv('/content/tmdb-movies.csv')\n",
        "df.head(2)"
      ],
      "execution_count": null,
      "outputs": [
        {
          "output_type": "execute_result",
          "data": {
            "text/html": [
              "<div>\n",
              "<style scoped>\n",
              "    .dataframe tbody tr th:only-of-type {\n",
              "        vertical-align: middle;\n",
              "    }\n",
              "\n",
              "    .dataframe tbody tr th {\n",
              "        vertical-align: top;\n",
              "    }\n",
              "\n",
              "    .dataframe thead th {\n",
              "        text-align: right;\n",
              "    }\n",
              "</style>\n",
              "<table border=\"1\" class=\"dataframe\">\n",
              "  <thead>\n",
              "    <tr style=\"text-align: right;\">\n",
              "      <th></th>\n",
              "      <th>id</th>\n",
              "      <th>imdb_id</th>\n",
              "      <th>popularity</th>\n",
              "      <th>budget</th>\n",
              "      <th>revenue</th>\n",
              "      <th>original_title</th>\n",
              "      <th>cast</th>\n",
              "      <th>homepage</th>\n",
              "      <th>director</th>\n",
              "      <th>tagline</th>\n",
              "      <th>keywords</th>\n",
              "      <th>overview</th>\n",
              "      <th>runtime</th>\n",
              "      <th>genres</th>\n",
              "      <th>production_companies</th>\n",
              "      <th>release_date</th>\n",
              "      <th>vote_count</th>\n",
              "      <th>vote_average</th>\n",
              "      <th>release_year</th>\n",
              "      <th>budget_adj</th>\n",
              "      <th>revenue_adj</th>\n",
              "    </tr>\n",
              "  </thead>\n",
              "  <tbody>\n",
              "    <tr>\n",
              "      <th>0</th>\n",
              "      <td>135397</td>\n",
              "      <td>tt0369610</td>\n",
              "      <td>32.985763</td>\n",
              "      <td>150000000</td>\n",
              "      <td>1513528810</td>\n",
              "      <td>Jurassic World</td>\n",
              "      <td>Chris Pratt|Bryce Dallas Howard|Irrfan Khan|Vi...</td>\n",
              "      <td>http://www.jurassicworld.com/</td>\n",
              "      <td>Colin Trevorrow</td>\n",
              "      <td>The park is open.</td>\n",
              "      <td>monster|dna|tyrannosaurus rex|velociraptor|island</td>\n",
              "      <td>Twenty-two years after the events of Jurassic ...</td>\n",
              "      <td>124</td>\n",
              "      <td>Action|Adventure|Science Fiction|Thriller</td>\n",
              "      <td>Universal Studios|Amblin Entertainment|Legenda...</td>\n",
              "      <td>6/9/15</td>\n",
              "      <td>5562</td>\n",
              "      <td>6.5</td>\n",
              "      <td>2015</td>\n",
              "      <td>1.379999e+08</td>\n",
              "      <td>1.392446e+09</td>\n",
              "    </tr>\n",
              "    <tr>\n",
              "      <th>1</th>\n",
              "      <td>76341</td>\n",
              "      <td>tt1392190</td>\n",
              "      <td>28.419936</td>\n",
              "      <td>150000000</td>\n",
              "      <td>378436354</td>\n",
              "      <td>Mad Max: Fury Road</td>\n",
              "      <td>Tom Hardy|Charlize Theron|Hugh Keays-Byrne|Nic...</td>\n",
              "      <td>http://www.madmaxmovie.com/</td>\n",
              "      <td>George Miller</td>\n",
              "      <td>What a Lovely Day.</td>\n",
              "      <td>future|chase|post-apocalyptic|dystopia|australia</td>\n",
              "      <td>An apocalyptic story set in the furthest reach...</td>\n",
              "      <td>120</td>\n",
              "      <td>Action|Adventure|Science Fiction|Thriller</td>\n",
              "      <td>Village Roadshow Pictures|Kennedy Miller Produ...</td>\n",
              "      <td>5/13/15</td>\n",
              "      <td>6185</td>\n",
              "      <td>7.1</td>\n",
              "      <td>2015</td>\n",
              "      <td>1.379999e+08</td>\n",
              "      <td>3.481613e+08</td>\n",
              "    </tr>\n",
              "  </tbody>\n",
              "</table>\n",
              "</div>"
            ],
            "text/plain": [
              "       id    imdb_id  popularity  ...  release_year    budget_adj   revenue_adj\n",
              "0  135397  tt0369610   32.985763  ...          2015  1.379999e+08  1.392446e+09\n",
              "1   76341  tt1392190   28.419936  ...          2015  1.379999e+08  3.481613e+08\n",
              "\n",
              "[2 rows x 21 columns]"
            ]
          },
          "metadata": {
            "tags": []
          },
          "execution_count": 2
        }
      ]
    },
    {
      "cell_type": "code",
      "metadata": {
        "id": "IZkgEhrJS9PE",
        "colab_type": "code",
        "colab": {
          "base_uri": "https://localhost:8080/",
          "height": 112
        },
        "outputId": "f0267f43-3efd-4889-b1a5-b4f80e576154"
      },
      "source": [
        "# list columns \n",
        "\n",
        "columns = list(df.columns)\n",
        "\n",
        "print(\"number of sample is : \", str(len(df)) + \" row \")\n",
        "\n",
        "print(\"columns in data is \\n  \",columns)\n",
        "\n",
        "print(\"number of columns is : \",str(len(columns)) + \" columns\")\n"
      ],
      "execution_count": null,
      "outputs": [
        {
          "output_type": "stream",
          "text": [
            "number of sample is :  10866 row \n",
            "columns in data is \n",
            "   ['id', 'imdb_id', 'popularity', 'budget', 'revenue', 'original_title', 'cast', 'homepage', 'director', 'tagline', 'keywords', 'overview', 'runtime', 'genres', 'production_companies', 'release_date', 'vote_count', 'vote_average', 'release_year', 'budget_adj', 'revenue_adj']\n",
            "number of columns is :  21 columns\n"
          ],
          "name": "stdout"
        }
      ]
    },
    {
      "cell_type": "markdown",
      "metadata": {
        "id": "ujvPmrBgUTtX",
        "colab_type": "text"
      },
      "source": [
        "### **observation about data** \n",
        "\n",
        "- we need to remove unused column \n",
        "- remove duplicated data\n",
        "- fill NAN value with mean of this column\n",
        "- Changing  date column to date format.\n",
        "\n",
        "\n"
      ]
    },
    {
      "cell_type": "code",
      "metadata": {
        "id": "Ob1q49gPUfhM",
        "colab_type": "code",
        "colab": {
          "base_uri": "https://localhost:8080/",
          "height": 271
        },
        "outputId": "ba0a9170-b83e-4600-902d-5c5c22540450"
      },
      "source": [
        "unwanted_col = ['id','imdb_id','homepage','tagline','keywords','overview','budget_adj','revenue_adj']\n",
        "df.drop(unwanted_col , axis = 1 , inplace = True)\n",
        "\n",
        "df.head(2)\n"
      ],
      "execution_count": null,
      "outputs": [
        {
          "output_type": "execute_result",
          "data": {
            "text/html": [
              "<div>\n",
              "<style scoped>\n",
              "    .dataframe tbody tr th:only-of-type {\n",
              "        vertical-align: middle;\n",
              "    }\n",
              "\n",
              "    .dataframe tbody tr th {\n",
              "        vertical-align: top;\n",
              "    }\n",
              "\n",
              "    .dataframe thead th {\n",
              "        text-align: right;\n",
              "    }\n",
              "</style>\n",
              "<table border=\"1\" class=\"dataframe\">\n",
              "  <thead>\n",
              "    <tr style=\"text-align: right;\">\n",
              "      <th></th>\n",
              "      <th>popularity</th>\n",
              "      <th>budget</th>\n",
              "      <th>revenue</th>\n",
              "      <th>original_title</th>\n",
              "      <th>cast</th>\n",
              "      <th>director</th>\n",
              "      <th>runtime</th>\n",
              "      <th>genres</th>\n",
              "      <th>production_companies</th>\n",
              "      <th>release_date</th>\n",
              "      <th>vote_count</th>\n",
              "      <th>vote_average</th>\n",
              "      <th>release_year</th>\n",
              "    </tr>\n",
              "  </thead>\n",
              "  <tbody>\n",
              "    <tr>\n",
              "      <th>0</th>\n",
              "      <td>32.985763</td>\n",
              "      <td>150000000</td>\n",
              "      <td>1513528810</td>\n",
              "      <td>Jurassic World</td>\n",
              "      <td>Chris Pratt|Bryce Dallas Howard|Irrfan Khan|Vi...</td>\n",
              "      <td>Colin Trevorrow</td>\n",
              "      <td>124</td>\n",
              "      <td>Action|Adventure|Science Fiction|Thriller</td>\n",
              "      <td>Universal Studios|Amblin Entertainment|Legenda...</td>\n",
              "      <td>6/9/15</td>\n",
              "      <td>5562</td>\n",
              "      <td>6.5</td>\n",
              "      <td>2015</td>\n",
              "    </tr>\n",
              "    <tr>\n",
              "      <th>1</th>\n",
              "      <td>28.419936</td>\n",
              "      <td>150000000</td>\n",
              "      <td>378436354</td>\n",
              "      <td>Mad Max: Fury Road</td>\n",
              "      <td>Tom Hardy|Charlize Theron|Hugh Keays-Byrne|Nic...</td>\n",
              "      <td>George Miller</td>\n",
              "      <td>120</td>\n",
              "      <td>Action|Adventure|Science Fiction|Thriller</td>\n",
              "      <td>Village Roadshow Pictures|Kennedy Miller Produ...</td>\n",
              "      <td>5/13/15</td>\n",
              "      <td>6185</td>\n",
              "      <td>7.1</td>\n",
              "      <td>2015</td>\n",
              "    </tr>\n",
              "  </tbody>\n",
              "</table>\n",
              "</div>"
            ],
            "text/plain": [
              "   popularity     budget     revenue  ... vote_count vote_average release_year\n",
              "0   32.985763  150000000  1513528810  ...       5562          6.5         2015\n",
              "1   28.419936  150000000   378436354  ...       6185          7.1         2015\n",
              "\n",
              "[2 rows x 13 columns]"
            ]
          },
          "metadata": {
            "tags": []
          },
          "execution_count": 4
        }
      ]
    },
    {
      "cell_type": "code",
      "metadata": {
        "id": "lmPk8X9GjleN",
        "colab_type": "code",
        "colab": {
          "base_uri": "https://localhost:8080/",
          "height": 300
        },
        "outputId": "e84cb92b-b4ed-457d-fd32-5ee6d0195a27"
      },
      "source": [
        "df.describe()"
      ],
      "execution_count": null,
      "outputs": [
        {
          "output_type": "execute_result",
          "data": {
            "text/html": [
              "<div>\n",
              "<style scoped>\n",
              "    .dataframe tbody tr th:only-of-type {\n",
              "        vertical-align: middle;\n",
              "    }\n",
              "\n",
              "    .dataframe tbody tr th {\n",
              "        vertical-align: top;\n",
              "    }\n",
              "\n",
              "    .dataframe thead th {\n",
              "        text-align: right;\n",
              "    }\n",
              "</style>\n",
              "<table border=\"1\" class=\"dataframe\">\n",
              "  <thead>\n",
              "    <tr style=\"text-align: right;\">\n",
              "      <th></th>\n",
              "      <th>popularity</th>\n",
              "      <th>budget</th>\n",
              "      <th>revenue</th>\n",
              "      <th>runtime</th>\n",
              "      <th>vote_count</th>\n",
              "      <th>vote_average</th>\n",
              "      <th>release_year</th>\n",
              "    </tr>\n",
              "  </thead>\n",
              "  <tbody>\n",
              "    <tr>\n",
              "      <th>count</th>\n",
              "      <td>10866.000000</td>\n",
              "      <td>1.086600e+04</td>\n",
              "      <td>1.086600e+04</td>\n",
              "      <td>10866.000000</td>\n",
              "      <td>10866.000000</td>\n",
              "      <td>10866.000000</td>\n",
              "      <td>10866.000000</td>\n",
              "    </tr>\n",
              "    <tr>\n",
              "      <th>mean</th>\n",
              "      <td>0.646441</td>\n",
              "      <td>1.462570e+07</td>\n",
              "      <td>3.982332e+07</td>\n",
              "      <td>102.070863</td>\n",
              "      <td>217.389748</td>\n",
              "      <td>5.974922</td>\n",
              "      <td>2001.322658</td>\n",
              "    </tr>\n",
              "    <tr>\n",
              "      <th>std</th>\n",
              "      <td>1.000185</td>\n",
              "      <td>3.091321e+07</td>\n",
              "      <td>1.170035e+08</td>\n",
              "      <td>31.381405</td>\n",
              "      <td>575.619058</td>\n",
              "      <td>0.935142</td>\n",
              "      <td>12.812941</td>\n",
              "    </tr>\n",
              "    <tr>\n",
              "      <th>min</th>\n",
              "      <td>0.000065</td>\n",
              "      <td>0.000000e+00</td>\n",
              "      <td>0.000000e+00</td>\n",
              "      <td>0.000000</td>\n",
              "      <td>10.000000</td>\n",
              "      <td>1.500000</td>\n",
              "      <td>1960.000000</td>\n",
              "    </tr>\n",
              "    <tr>\n",
              "      <th>25%</th>\n",
              "      <td>0.207583</td>\n",
              "      <td>0.000000e+00</td>\n",
              "      <td>0.000000e+00</td>\n",
              "      <td>90.000000</td>\n",
              "      <td>17.000000</td>\n",
              "      <td>5.400000</td>\n",
              "      <td>1995.000000</td>\n",
              "    </tr>\n",
              "    <tr>\n",
              "      <th>50%</th>\n",
              "      <td>0.383856</td>\n",
              "      <td>0.000000e+00</td>\n",
              "      <td>0.000000e+00</td>\n",
              "      <td>99.000000</td>\n",
              "      <td>38.000000</td>\n",
              "      <td>6.000000</td>\n",
              "      <td>2006.000000</td>\n",
              "    </tr>\n",
              "    <tr>\n",
              "      <th>75%</th>\n",
              "      <td>0.713817</td>\n",
              "      <td>1.500000e+07</td>\n",
              "      <td>2.400000e+07</td>\n",
              "      <td>111.000000</td>\n",
              "      <td>145.750000</td>\n",
              "      <td>6.600000</td>\n",
              "      <td>2011.000000</td>\n",
              "    </tr>\n",
              "    <tr>\n",
              "      <th>max</th>\n",
              "      <td>32.985763</td>\n",
              "      <td>4.250000e+08</td>\n",
              "      <td>2.781506e+09</td>\n",
              "      <td>900.000000</td>\n",
              "      <td>9767.000000</td>\n",
              "      <td>9.200000</td>\n",
              "      <td>2015.000000</td>\n",
              "    </tr>\n",
              "  </tbody>\n",
              "</table>\n",
              "</div>"
            ],
            "text/plain": [
              "         popularity        budget  ...  vote_average  release_year\n",
              "count  10866.000000  1.086600e+04  ...  10866.000000  10866.000000\n",
              "mean       0.646441  1.462570e+07  ...      5.974922   2001.322658\n",
              "std        1.000185  3.091321e+07  ...      0.935142     12.812941\n",
              "min        0.000065  0.000000e+00  ...      1.500000   1960.000000\n",
              "25%        0.207583  0.000000e+00  ...      5.400000   1995.000000\n",
              "50%        0.383856  0.000000e+00  ...      6.000000   2006.000000\n",
              "75%        0.713817  1.500000e+07  ...      6.600000   2011.000000\n",
              "max       32.985763  4.250000e+08  ...      9.200000   2015.000000\n",
              "\n",
              "[8 rows x 7 columns]"
            ]
          },
          "metadata": {
            "tags": []
          },
          "execution_count": 5
        }
      ]
    },
    {
      "cell_type": "code",
      "metadata": {
        "id": "6V1UL5t1jt9u",
        "colab_type": "code",
        "colab": {
          "base_uri": "https://localhost:8080/",
          "height": 392
        },
        "outputId": "c9577daa-8997-4b1b-9604-c645cf26af3f"
      },
      "source": [
        "df.info()"
      ],
      "execution_count": null,
      "outputs": [
        {
          "output_type": "stream",
          "text": [
            "<class 'pandas.core.frame.DataFrame'>\n",
            "RangeIndex: 10866 entries, 0 to 10865\n",
            "Data columns (total 13 columns):\n",
            " #   Column                Non-Null Count  Dtype  \n",
            "---  ------                --------------  -----  \n",
            " 0   popularity            10866 non-null  float64\n",
            " 1   budget                10866 non-null  int64  \n",
            " 2   revenue               10866 non-null  int64  \n",
            " 3   original_title        10866 non-null  object \n",
            " 4   cast                  10790 non-null  object \n",
            " 5   director              10822 non-null  object \n",
            " 6   runtime               10866 non-null  int64  \n",
            " 7   genres                10843 non-null  object \n",
            " 8   production_companies  9836 non-null   object \n",
            " 9   release_date          10866 non-null  object \n",
            " 10  vote_count            10866 non-null  int64  \n",
            " 11  vote_average          10866 non-null  float64\n",
            " 12  release_year          10866 non-null  int64  \n",
            "dtypes: float64(2), int64(5), object(6)\n",
            "memory usage: 1.1+ MB\n"
          ],
          "name": "stdout"
        }
      ]
    },
    {
      "cell_type": "markdown",
      "metadata": {
        "id": "Y0Lo2yQdl_2C",
        "colab_type": "text"
      },
      "source": [
        "> **Tip**: You should _not_ perform too many operations in each cell. Create cells freely to explore your data. One option that you can take with this project is to do a lot of explorations in an initial notebook. These don't have to be organized, but make sure you use enough comments to understand the purpose of each code cell. Then, after you're done with your analysis, create a duplicate notebook where you will trim the excess and organize your steps so that you have a flowing, cohesive report.\n",
        "\n",
        "> **Tip**: Make sure that you keep your reader informed on the steps that you are taking in your investigation. Follow every code cell, or every set of related code cells, with a markdown cell to describe to the reader what was found in the preceding cell(s). Try to make it so that the reader can then understand what they will be seeing in the following cell(s).\n",
        "\n",
        "### Data Cleaning (Replace this with more specific notes!)"
      ]
    },
    {
      "cell_type": "markdown",
      "metadata": {
        "id": "YywW9msSj2vF",
        "colab_type": "text"
      },
      "source": [
        "## drop duplicated"
      ]
    },
    {
      "cell_type": "code",
      "metadata": {
        "id": "b8G1C_PRj6a6",
        "colab_type": "code",
        "colab": {
          "base_uri": "https://localhost:8080/",
          "height": 36
        },
        "outputId": "900334cc-0bec-4e34-ae2f-a8b021bfb6fd"
      },
      "source": [
        "print(\"sum of the duplicated data is : \", sum(df.duplicated()))"
      ],
      "execution_count": null,
      "outputs": [
        {
          "output_type": "stream",
          "text": [
            "sum of the duplicated data is :  1\n"
          ],
          "name": "stdout"
        }
      ]
    },
    {
      "cell_type": "code",
      "metadata": {
        "id": "GEYrh_7PkFlW",
        "colab_type": "code",
        "colab": {
          "base_uri": "https://localhost:8080/",
          "height": 36
        },
        "outputId": "c43de804-87e1-4515-f5cb-2fab082353e7"
      },
      "source": [
        "df.drop_duplicates(inplace= True)\n",
        "print(\"sum of the duplicated data is : \", sum(df.duplicated()))"
      ],
      "execution_count": null,
      "outputs": [
        {
          "output_type": "stream",
          "text": [
            "sum of the duplicated data is :  0\n"
          ],
          "name": "stdout"
        }
      ]
    },
    {
      "cell_type": "markdown",
      "metadata": {
        "id": "jZjbr_tJkO0P",
        "colab_type": "text"
      },
      "source": [
        "## fill non value with mean"
      ]
    },
    {
      "cell_type": "code",
      "metadata": {
        "id": "qjZRJOC4yFOZ",
        "colab_type": "code",
        "colab": {
          "base_uri": "https://localhost:8080/",
          "height": 279
        },
        "outputId": "76b49176-5ac5-4340-b094-1130f34d51c1"
      },
      "source": [
        "df.isnull().sum()"
      ],
      "execution_count": null,
      "outputs": [
        {
          "output_type": "execute_result",
          "data": {
            "text/plain": [
              "popularity                 0\n",
              "budget                     0\n",
              "revenue                    0\n",
              "original_title             0\n",
              "cast                      76\n",
              "director                  44\n",
              "runtime                    0\n",
              "genres                    23\n",
              "production_companies    1030\n",
              "release_date               0\n",
              "vote_count                 0\n",
              "vote_average               0\n",
              "release_year               0\n",
              "dtype: int64"
            ]
          },
          "metadata": {
            "tags": []
          },
          "execution_count": 9
        }
      ]
    },
    {
      "cell_type": "code",
      "metadata": {
        "id": "Ye8c11DRyRyo",
        "colab_type": "code",
        "colab": {
          "base_uri": "https://localhost:8080/",
          "height": 354
        },
        "outputId": "2c9fd092-6ab4-4b10-c86d-497d04779e91"
      },
      "source": [
        "df.replace(0,np.nan)\n",
        "df.head(3)"
      ],
      "execution_count": 41,
      "outputs": [
        {
          "output_type": "execute_result",
          "data": {
            "text/html": [
              "<div>\n",
              "<style scoped>\n",
              "    .dataframe tbody tr th:only-of-type {\n",
              "        vertical-align: middle;\n",
              "    }\n",
              "\n",
              "    .dataframe tbody tr th {\n",
              "        vertical-align: top;\n",
              "    }\n",
              "\n",
              "    .dataframe thead th {\n",
              "        text-align: right;\n",
              "    }\n",
              "</style>\n",
              "<table border=\"1\" class=\"dataframe\">\n",
              "  <thead>\n",
              "    <tr style=\"text-align: right;\">\n",
              "      <th></th>\n",
              "      <th>popularity</th>\n",
              "      <th>budget</th>\n",
              "      <th>revenue</th>\n",
              "      <th>original_title</th>\n",
              "      <th>cast</th>\n",
              "      <th>director</th>\n",
              "      <th>runtime</th>\n",
              "      <th>genres</th>\n",
              "      <th>production_companies</th>\n",
              "      <th>release_date</th>\n",
              "      <th>vote_count</th>\n",
              "      <th>vote_average</th>\n",
              "      <th>release_year</th>\n",
              "    </tr>\n",
              "  </thead>\n",
              "  <tbody>\n",
              "    <tr>\n",
              "      <th>0</th>\n",
              "      <td>32.985763</td>\n",
              "      <td>150000000</td>\n",
              "      <td>1513528810</td>\n",
              "      <td>Jurassic World</td>\n",
              "      <td>Chris Pratt|Bryce Dallas Howard|Irrfan Khan|Vi...</td>\n",
              "      <td>Colin Trevorrow</td>\n",
              "      <td>124</td>\n",
              "      <td>Action|Adventure|Science Fiction|Thriller</td>\n",
              "      <td>Universal Studios|Amblin Entertainment|Legenda...</td>\n",
              "      <td>2015-06-09</td>\n",
              "      <td>5562</td>\n",
              "      <td>6.5</td>\n",
              "      <td>2015</td>\n",
              "    </tr>\n",
              "    <tr>\n",
              "      <th>1</th>\n",
              "      <td>28.419936</td>\n",
              "      <td>150000000</td>\n",
              "      <td>378436354</td>\n",
              "      <td>Mad Max: Fury Road</td>\n",
              "      <td>Tom Hardy|Charlize Theron|Hugh Keays-Byrne|Nic...</td>\n",
              "      <td>George Miller</td>\n",
              "      <td>120</td>\n",
              "      <td>Action|Adventure|Science Fiction|Thriller</td>\n",
              "      <td>Village Roadshow Pictures|Kennedy Miller Produ...</td>\n",
              "      <td>2015-05-13</td>\n",
              "      <td>6185</td>\n",
              "      <td>7.1</td>\n",
              "      <td>2015</td>\n",
              "    </tr>\n",
              "    <tr>\n",
              "      <th>2</th>\n",
              "      <td>13.112507</td>\n",
              "      <td>110000000</td>\n",
              "      <td>295238201</td>\n",
              "      <td>Insurgent</td>\n",
              "      <td>Shailene Woodley|Theo James|Kate Winslet|Ansel...</td>\n",
              "      <td>Robert Schwentke</td>\n",
              "      <td>119</td>\n",
              "      <td>Adventure|Science Fiction|Thriller</td>\n",
              "      <td>Summit Entertainment|Mandeville Films|Red Wago...</td>\n",
              "      <td>2015-03-18</td>\n",
              "      <td>2480</td>\n",
              "      <td>6.3</td>\n",
              "      <td>2015</td>\n",
              "    </tr>\n",
              "  </tbody>\n",
              "</table>\n",
              "</div>"
            ],
            "text/plain": [
              "   popularity     budget     revenue  ... vote_count vote_average release_year\n",
              "0   32.985763  150000000  1513528810  ...       5562          6.5         2015\n",
              "1   28.419936  150000000   378436354  ...       6185          7.1         2015\n",
              "2   13.112507  110000000   295238201  ...       2480          6.3         2015\n",
              "\n",
              "[3 rows x 13 columns]"
            ]
          },
          "metadata": {
            "tags": []
          },
          "execution_count": 41
        }
      ]
    },
    {
      "cell_type": "code",
      "metadata": {
        "id": "n3HTEiH7kThP",
        "colab_type": "code",
        "colab": {
          "base_uri": "https://localhost:8080/",
          "height": 298
        },
        "outputId": "2d66693c-b7b7-4292-a12f-4dcaf5b0e238"
      },
      "source": [
        "print(\"sum of the null value is : \",len(df.isnull().count()))\n",
        "df.isnull().sum()"
      ],
      "execution_count": null,
      "outputs": [
        {
          "output_type": "stream",
          "text": [
            "sum of the null value is :  13\n"
          ],
          "name": "stdout"
        },
        {
          "output_type": "execute_result",
          "data": {
            "text/plain": [
              "popularity                 0\n",
              "budget                     0\n",
              "revenue                    0\n",
              "original_title             0\n",
              "cast                      76\n",
              "director                  44\n",
              "runtime                    0\n",
              "genres                    23\n",
              "production_companies    1030\n",
              "release_date               0\n",
              "vote_count                 0\n",
              "vote_average               0\n",
              "release_year               0\n",
              "dtype: int64"
            ]
          },
          "metadata": {
            "tags": []
          },
          "execution_count": 11
        }
      ]
    },
    {
      "cell_type": "markdown",
      "metadata": {
        "id": "ULi3Mdt7lf0W",
        "colab_type": "text"
      },
      "source": [
        "## because this data is categorical data and you want to drop it"
      ]
    },
    {
      "cell_type": "code",
      "metadata": {
        "id": "LandBmaPlnts",
        "colab_type": "code",
        "colab": {
          "base_uri": "https://localhost:8080/",
          "height": 279
        },
        "outputId": "53db2de9-8a30-402d-c0e3-115a1f1426e0"
      },
      "source": [
        "df.dropna(inplace=True)\n",
        "df.isnull().sum()"
      ],
      "execution_count": null,
      "outputs": [
        {
          "output_type": "execute_result",
          "data": {
            "text/plain": [
              "popularity              0\n",
              "budget                  0\n",
              "revenue                 0\n",
              "original_title          0\n",
              "cast                    0\n",
              "director                0\n",
              "runtime                 0\n",
              "genres                  0\n",
              "production_companies    0\n",
              "release_date            0\n",
              "vote_count              0\n",
              "vote_average            0\n",
              "release_year            0\n",
              "dtype: int64"
            ]
          },
          "metadata": {
            "tags": []
          },
          "execution_count": 12
        }
      ]
    },
    {
      "cell_type": "code",
      "metadata": {
        "id": "uB0p3mciywlv",
        "colab_type": "code",
        "colab": {
          "base_uri": "https://localhost:8080/",
          "height": 392
        },
        "outputId": "4b6661ae-e1f0-4b06-823f-10cad301ac8e"
      },
      "source": [
        "df.info()"
      ],
      "execution_count": null,
      "outputs": [
        {
          "output_type": "stream",
          "text": [
            "<class 'pandas.core.frame.DataFrame'>\n",
            "Int64Index: 9772 entries, 0 to 10865\n",
            "Data columns (total 13 columns):\n",
            " #   Column                Non-Null Count  Dtype  \n",
            "---  ------                --------------  -----  \n",
            " 0   popularity            9772 non-null   float64\n",
            " 1   budget                9772 non-null   int64  \n",
            " 2   revenue               9772 non-null   int64  \n",
            " 3   original_title        9772 non-null   object \n",
            " 4   cast                  9772 non-null   object \n",
            " 5   director              9772 non-null   object \n",
            " 6   runtime               9772 non-null   int64  \n",
            " 7   genres                9772 non-null   object \n",
            " 8   production_companies  9772 non-null   object \n",
            " 9   release_date          9772 non-null   object \n",
            " 10  vote_count            9772 non-null   int64  \n",
            " 11  vote_average          9772 non-null   float64\n",
            " 12  release_year          9772 non-null   int64  \n",
            "dtypes: float64(2), int64(5), object(6)\n",
            "memory usage: 1.0+ MB\n"
          ],
          "name": "stdout"
        }
      ]
    },
    {
      "cell_type": "code",
      "metadata": {
        "id": "ImYskHpozg8I",
        "colab_type": "code",
        "colab": {
          "base_uri": "https://localhost:8080/",
          "height": 36
        },
        "outputId": "4d7d32c4-ec39-42cd-dd04-76ef1d214a6d"
      },
      "source": [
        "print(df.shape)"
      ],
      "execution_count": null,
      "outputs": [
        {
          "output_type": "stream",
          "text": [
            "(9772, 13)\n"
          ],
          "name": "stdout"
        }
      ]
    },
    {
      "cell_type": "markdown",
      "metadata": {
        "id": "2olcNeYCmRyt",
        "colab_type": "text"
      },
      "source": [
        "## fix data format"
      ]
    },
    {
      "cell_type": "code",
      "metadata": {
        "id": "UDNzJjFAmWDU",
        "colab_type": "code",
        "colab": {
          "base_uri": "https://localhost:8080/",
          "height": 545
        },
        "outputId": "0b8f152b-7ec0-436b-c641-d62768173f6b"
      },
      "source": [
        "df.info()\n",
        "df.head(1)"
      ],
      "execution_count": null,
      "outputs": [
        {
          "output_type": "stream",
          "text": [
            "<class 'pandas.core.frame.DataFrame'>\n",
            "Int64Index: 9772 entries, 0 to 10865\n",
            "Data columns (total 13 columns):\n",
            " #   Column                Non-Null Count  Dtype  \n",
            "---  ------                --------------  -----  \n",
            " 0   popularity            9772 non-null   float64\n",
            " 1   budget                9772 non-null   int64  \n",
            " 2   revenue               9772 non-null   int64  \n",
            " 3   original_title        9772 non-null   object \n",
            " 4   cast                  9772 non-null   object \n",
            " 5   director              9772 non-null   object \n",
            " 6   runtime               9772 non-null   int64  \n",
            " 7   genres                9772 non-null   object \n",
            " 8   production_companies  9772 non-null   object \n",
            " 9   release_date          9772 non-null   object \n",
            " 10  vote_count            9772 non-null   int64  \n",
            " 11  vote_average          9772 non-null   float64\n",
            " 12  release_year          9772 non-null   int64  \n",
            "dtypes: float64(2), int64(5), object(6)\n",
            "memory usage: 1.0+ MB\n"
          ],
          "name": "stdout"
        },
        {
          "output_type": "execute_result",
          "data": {
            "text/html": [
              "<div>\n",
              "<style scoped>\n",
              "    .dataframe tbody tr th:only-of-type {\n",
              "        vertical-align: middle;\n",
              "    }\n",
              "\n",
              "    .dataframe tbody tr th {\n",
              "        vertical-align: top;\n",
              "    }\n",
              "\n",
              "    .dataframe thead th {\n",
              "        text-align: right;\n",
              "    }\n",
              "</style>\n",
              "<table border=\"1\" class=\"dataframe\">\n",
              "  <thead>\n",
              "    <tr style=\"text-align: right;\">\n",
              "      <th></th>\n",
              "      <th>popularity</th>\n",
              "      <th>budget</th>\n",
              "      <th>revenue</th>\n",
              "      <th>original_title</th>\n",
              "      <th>cast</th>\n",
              "      <th>director</th>\n",
              "      <th>runtime</th>\n",
              "      <th>genres</th>\n",
              "      <th>production_companies</th>\n",
              "      <th>release_date</th>\n",
              "      <th>vote_count</th>\n",
              "      <th>vote_average</th>\n",
              "      <th>release_year</th>\n",
              "    </tr>\n",
              "  </thead>\n",
              "  <tbody>\n",
              "    <tr>\n",
              "      <th>0</th>\n",
              "      <td>32.985763</td>\n",
              "      <td>150000000</td>\n",
              "      <td>1513528810</td>\n",
              "      <td>Jurassic World</td>\n",
              "      <td>Chris Pratt|Bryce Dallas Howard|Irrfan Khan|Vi...</td>\n",
              "      <td>Colin Trevorrow</td>\n",
              "      <td>124</td>\n",
              "      <td>Action|Adventure|Science Fiction|Thriller</td>\n",
              "      <td>Universal Studios|Amblin Entertainment|Legenda...</td>\n",
              "      <td>6/9/15</td>\n",
              "      <td>5562</td>\n",
              "      <td>6.5</td>\n",
              "      <td>2015</td>\n",
              "    </tr>\n",
              "  </tbody>\n",
              "</table>\n",
              "</div>"
            ],
            "text/plain": [
              "   popularity     budget     revenue  ... vote_count vote_average release_year\n",
              "0   32.985763  150000000  1513528810  ...       5562          6.5         2015\n",
              "\n",
              "[1 rows x 13 columns]"
            ]
          },
          "metadata": {
            "tags": []
          },
          "execution_count": 15
        }
      ]
    },
    {
      "cell_type": "code",
      "metadata": {
        "id": "tMROEsXrnX__",
        "colab_type": "code",
        "colab": {
          "base_uri": "https://localhost:8080/",
          "height": 81
        },
        "outputId": "831f6559-b178-448a-a91a-891c61f72ff5"
      },
      "source": [
        "date = df[['release_date','release_year']].copy()\n",
        "date.head(1)"
      ],
      "execution_count": null,
      "outputs": [
        {
          "output_type": "execute_result",
          "data": {
            "text/html": [
              "<div>\n",
              "<style scoped>\n",
              "    .dataframe tbody tr th:only-of-type {\n",
              "        vertical-align: middle;\n",
              "    }\n",
              "\n",
              "    .dataframe tbody tr th {\n",
              "        vertical-align: top;\n",
              "    }\n",
              "\n",
              "    .dataframe thead th {\n",
              "        text-align: right;\n",
              "    }\n",
              "</style>\n",
              "<table border=\"1\" class=\"dataframe\">\n",
              "  <thead>\n",
              "    <tr style=\"text-align: right;\">\n",
              "      <th></th>\n",
              "      <th>release_date</th>\n",
              "      <th>release_year</th>\n",
              "    </tr>\n",
              "  </thead>\n",
              "  <tbody>\n",
              "    <tr>\n",
              "      <th>0</th>\n",
              "      <td>6/9/15</td>\n",
              "      <td>2015</td>\n",
              "    </tr>\n",
              "  </tbody>\n",
              "</table>\n",
              "</div>"
            ],
            "text/plain": [
              "  release_date  release_year\n",
              "0       6/9/15          2015"
            ]
          },
          "metadata": {
            "tags": []
          },
          "execution_count": 16
        }
      ]
    },
    {
      "cell_type": "code",
      "metadata": {
        "id": "0CxJJHFewKje",
        "colab_type": "code",
        "colab": {}
      },
      "source": [
        ""
      ],
      "execution_count": null,
      "outputs": []
    },
    {
      "cell_type": "code",
      "metadata": {
        "id": "Uz8vQDiWoBvS",
        "colab_type": "code",
        "colab": {
          "base_uri": "https://localhost:8080/",
          "height": 81
        },
        "outputId": "b5bdd43d-a96a-4373-9159-912f7f85b1ed"
      },
      "source": [
        "date[['month','day','bad_year']] = date.release_date.str.split(\"/\",expand=True) \n",
        "date.head(1)"
      ],
      "execution_count": null,
      "outputs": [
        {
          "output_type": "execute_result",
          "data": {
            "text/html": [
              "<div>\n",
              "<style scoped>\n",
              "    .dataframe tbody tr th:only-of-type {\n",
              "        vertical-align: middle;\n",
              "    }\n",
              "\n",
              "    .dataframe tbody tr th {\n",
              "        vertical-align: top;\n",
              "    }\n",
              "\n",
              "    .dataframe thead th {\n",
              "        text-align: right;\n",
              "    }\n",
              "</style>\n",
              "<table border=\"1\" class=\"dataframe\">\n",
              "  <thead>\n",
              "    <tr style=\"text-align: right;\">\n",
              "      <th></th>\n",
              "      <th>release_date</th>\n",
              "      <th>release_year</th>\n",
              "      <th>month</th>\n",
              "      <th>day</th>\n",
              "      <th>bad_year</th>\n",
              "    </tr>\n",
              "  </thead>\n",
              "  <tbody>\n",
              "    <tr>\n",
              "      <th>0</th>\n",
              "      <td>6/9/15</td>\n",
              "      <td>2015</td>\n",
              "      <td>6</td>\n",
              "      <td>9</td>\n",
              "      <td>15</td>\n",
              "    </tr>\n",
              "  </tbody>\n",
              "</table>\n",
              "</div>"
            ],
            "text/plain": [
              "  release_date  release_year month day bad_year\n",
              "0       6/9/15          2015     6   9       15"
            ]
          },
          "metadata": {
            "tags": []
          },
          "execution_count": 17
        }
      ]
    },
    {
      "cell_type": "code",
      "metadata": {
        "id": "C4UQ188eqIsD",
        "colab_type": "code",
        "colab": {
          "base_uri": "https://localhost:8080/",
          "height": 129
        },
        "outputId": "f2c75a3e-9f6d-436a-cb53-b7a2031909c0"
      },
      "source": [
        "date.dtypes\n",
        "\n"
      ],
      "execution_count": null,
      "outputs": [
        {
          "output_type": "execute_result",
          "data": {
            "text/plain": [
              "release_date    object\n",
              "release_year     int64\n",
              "month           object\n",
              "day             object\n",
              "bad_year        object\n",
              "dtype: object"
            ]
          },
          "metadata": {
            "tags": []
          },
          "execution_count": 18
        }
      ]
    },
    {
      "cell_type": "code",
      "metadata": {
        "id": "Fy9edDfrqee3",
        "colab_type": "code",
        "colab": {
          "base_uri": "https://localhost:8080/",
          "height": 129
        },
        "outputId": "1d0cc4ac-d1bf-4578-a68b-b3973e39cd77"
      },
      "source": [
        "date[\"release_year\"] = date[\"release_year\"].astype(str)\n",
        "date.dtypes"
      ],
      "execution_count": null,
      "outputs": [
        {
          "output_type": "execute_result",
          "data": {
            "text/plain": [
              "release_date    object\n",
              "release_year    object\n",
              "month           object\n",
              "day             object\n",
              "bad_year        object\n",
              "dtype: object"
            ]
          },
          "metadata": {
            "tags": []
          },
          "execution_count": 19
        }
      ]
    },
    {
      "cell_type": "code",
      "metadata": {
        "id": "KgKkeLJ2quQL",
        "colab_type": "code",
        "colab": {
          "base_uri": "https://localhost:8080/",
          "height": 81
        },
        "outputId": "9f5636ba-802a-4a43-8e8a-f737ceaf02be"
      },
      "source": [
        "date['date'] = date['release_year'] + '-' + date['month'] + '-' + date['day']\n",
        "date['date'] = pd.to_datetime(date['date'])\n",
        "\n",
        "date.head(1)\n"
      ],
      "execution_count": null,
      "outputs": [
        {
          "output_type": "execute_result",
          "data": {
            "text/html": [
              "<div>\n",
              "<style scoped>\n",
              "    .dataframe tbody tr th:only-of-type {\n",
              "        vertical-align: middle;\n",
              "    }\n",
              "\n",
              "    .dataframe tbody tr th {\n",
              "        vertical-align: top;\n",
              "    }\n",
              "\n",
              "    .dataframe thead th {\n",
              "        text-align: right;\n",
              "    }\n",
              "</style>\n",
              "<table border=\"1\" class=\"dataframe\">\n",
              "  <thead>\n",
              "    <tr style=\"text-align: right;\">\n",
              "      <th></th>\n",
              "      <th>release_date</th>\n",
              "      <th>release_year</th>\n",
              "      <th>month</th>\n",
              "      <th>day</th>\n",
              "      <th>bad_year</th>\n",
              "      <th>date</th>\n",
              "    </tr>\n",
              "  </thead>\n",
              "  <tbody>\n",
              "    <tr>\n",
              "      <th>0</th>\n",
              "      <td>6/9/15</td>\n",
              "      <td>2015</td>\n",
              "      <td>6</td>\n",
              "      <td>9</td>\n",
              "      <td>15</td>\n",
              "      <td>2015-06-09</td>\n",
              "    </tr>\n",
              "  </tbody>\n",
              "</table>\n",
              "</div>"
            ],
            "text/plain": [
              "  release_date release_year month day bad_year       date\n",
              "0       6/9/15         2015     6   9       15 2015-06-09"
            ]
          },
          "metadata": {
            "tags": []
          },
          "execution_count": 20
        }
      ]
    },
    {
      "cell_type": "code",
      "metadata": {
        "id": "yPqGqGqr95G5",
        "colab_type": "code",
        "colab": {}
      },
      "source": [
        ""
      ],
      "execution_count": null,
      "outputs": []
    },
    {
      "cell_type": "code",
      "metadata": {
        "id": "Yy1e1I3Dxmgs",
        "colab_type": "code",
        "colab": {
          "base_uri": "https://localhost:8080/",
          "height": 261
        },
        "outputId": "af662c6d-a7c2-470b-ff26-13e870a4a951"
      },
      "source": [
        "date.info()"
      ],
      "execution_count": null,
      "outputs": [
        {
          "output_type": "stream",
          "text": [
            "<class 'pandas.core.frame.DataFrame'>\n",
            "Int64Index: 9772 entries, 0 to 10865\n",
            "Data columns (total 6 columns):\n",
            " #   Column        Non-Null Count  Dtype         \n",
            "---  ------        --------------  -----         \n",
            " 0   release_date  9772 non-null   object        \n",
            " 1   release_year  9772 non-null   object        \n",
            " 2   month         9772 non-null   object        \n",
            " 3   day           9772 non-null   object        \n",
            " 4   bad_year      9772 non-null   object        \n",
            " 5   date          9772 non-null   datetime64[ns]\n",
            "dtypes: datetime64[ns](1), object(5)\n",
            "memory usage: 534.4+ KB\n"
          ],
          "name": "stdout"
        }
      ]
    },
    {
      "cell_type": "code",
      "metadata": {
        "id": "wRvYc1g1xqMf",
        "colab_type": "code",
        "colab": {
          "base_uri": "https://localhost:8080/",
          "height": 170
        },
        "outputId": "77d5c62c-4664-4734-dad4-50fb946939b1"
      },
      "source": [
        "df['release_date'] = date['date']\n",
        "df.head(1)"
      ],
      "execution_count": null,
      "outputs": [
        {
          "output_type": "execute_result",
          "data": {
            "text/html": [
              "<div>\n",
              "<style scoped>\n",
              "    .dataframe tbody tr th:only-of-type {\n",
              "        vertical-align: middle;\n",
              "    }\n",
              "\n",
              "    .dataframe tbody tr th {\n",
              "        vertical-align: top;\n",
              "    }\n",
              "\n",
              "    .dataframe thead th {\n",
              "        text-align: right;\n",
              "    }\n",
              "</style>\n",
              "<table border=\"1\" class=\"dataframe\">\n",
              "  <thead>\n",
              "    <tr style=\"text-align: right;\">\n",
              "      <th></th>\n",
              "      <th>popularity</th>\n",
              "      <th>budget</th>\n",
              "      <th>revenue</th>\n",
              "      <th>original_title</th>\n",
              "      <th>cast</th>\n",
              "      <th>director</th>\n",
              "      <th>runtime</th>\n",
              "      <th>genres</th>\n",
              "      <th>production_companies</th>\n",
              "      <th>release_date</th>\n",
              "      <th>vote_count</th>\n",
              "      <th>vote_average</th>\n",
              "      <th>release_year</th>\n",
              "    </tr>\n",
              "  </thead>\n",
              "  <tbody>\n",
              "    <tr>\n",
              "      <th>0</th>\n",
              "      <td>32.985763</td>\n",
              "      <td>150000000</td>\n",
              "      <td>1513528810</td>\n",
              "      <td>Jurassic World</td>\n",
              "      <td>Chris Pratt|Bryce Dallas Howard|Irrfan Khan|Vi...</td>\n",
              "      <td>Colin Trevorrow</td>\n",
              "      <td>124</td>\n",
              "      <td>Action|Adventure|Science Fiction|Thriller</td>\n",
              "      <td>Universal Studios|Amblin Entertainment|Legenda...</td>\n",
              "      <td>2015-06-09</td>\n",
              "      <td>5562</td>\n",
              "      <td>6.5</td>\n",
              "      <td>2015</td>\n",
              "    </tr>\n",
              "  </tbody>\n",
              "</table>\n",
              "</div>"
            ],
            "text/plain": [
              "   popularity     budget     revenue  ... vote_count vote_average release_year\n",
              "0   32.985763  150000000  1513528810  ...       5562          6.5         2015\n",
              "\n",
              "[1 rows x 13 columns]"
            ]
          },
          "metadata": {
            "tags": []
          },
          "execution_count": 22
        }
      ]
    },
    {
      "cell_type": "code",
      "metadata": {
        "id": "8UOWzgiazFxb",
        "colab_type": "code",
        "colab": {
          "base_uri": "https://localhost:8080/",
          "height": 392
        },
        "outputId": "b7689a34-ad03-4db4-c2a7-db3d819d2771"
      },
      "source": [
        "df.info()"
      ],
      "execution_count": null,
      "outputs": [
        {
          "output_type": "stream",
          "text": [
            "<class 'pandas.core.frame.DataFrame'>\n",
            "Int64Index: 9772 entries, 0 to 10865\n",
            "Data columns (total 13 columns):\n",
            " #   Column                Non-Null Count  Dtype         \n",
            "---  ------                --------------  -----         \n",
            " 0   popularity            9772 non-null   float64       \n",
            " 1   budget                9772 non-null   int64         \n",
            " 2   revenue               9772 non-null   int64         \n",
            " 3   original_title        9772 non-null   object        \n",
            " 4   cast                  9772 non-null   object        \n",
            " 5   director              9772 non-null   object        \n",
            " 6   runtime               9772 non-null   int64         \n",
            " 7   genres                9772 non-null   object        \n",
            " 8   production_companies  9772 non-null   object        \n",
            " 9   release_date          9772 non-null   datetime64[ns]\n",
            " 10  vote_count            9772 non-null   int64         \n",
            " 11  vote_average          9772 non-null   float64       \n",
            " 12  release_year          9772 non-null   int64         \n",
            "dtypes: datetime64[ns](1), float64(2), int64(5), object(5)\n",
            "memory usage: 1.0+ MB\n"
          ],
          "name": "stdout"
        }
      ]
    },
    {
      "cell_type": "markdown",
      "metadata": {
        "id": "nvtaOQpT0B9r",
        "colab_type": "text"
      },
      "source": [
        "## check some info about data"
      ]
    },
    {
      "cell_type": "code",
      "metadata": {
        "id": "58QdJk3a0G7v",
        "colab_type": "code",
        "colab": {
          "base_uri": "https://localhost:8080/",
          "height": 279
        },
        "outputId": "d3113fd0-5732-4ad1-8a88-a0c3d37769f7"
      },
      "source": [
        "df.isnull().sum()"
      ],
      "execution_count": null,
      "outputs": [
        {
          "output_type": "execute_result",
          "data": {
            "text/plain": [
              "popularity              0\n",
              "budget                  0\n",
              "revenue                 0\n",
              "original_title          0\n",
              "cast                    0\n",
              "director                0\n",
              "runtime                 0\n",
              "genres                  0\n",
              "production_companies    0\n",
              "release_date            0\n",
              "vote_count              0\n",
              "vote_average            0\n",
              "release_year            0\n",
              "dtype: int64"
            ]
          },
          "metadata": {
            "tags": []
          },
          "execution_count": 24
        }
      ]
    },
    {
      "cell_type": "code",
      "metadata": {
        "id": "yK26EyyH0K0R",
        "colab_type": "code",
        "colab": {
          "base_uri": "https://localhost:8080/",
          "height": 36
        },
        "outputId": "c1947994-6ad3-4678-8f25-a70ffdd2dc94"
      },
      "source": [
        "print(\"sum of duplicated data : \" ,sum(df.duplicated()))"
      ],
      "execution_count": null,
      "outputs": [
        {
          "output_type": "stream",
          "text": [
            "sum of duplicated data :  0\n"
          ],
          "name": "stdout"
        }
      ]
    },
    {
      "cell_type": "code",
      "metadata": {
        "id": "QBLFF2Te0f6W",
        "colab_type": "code",
        "colab": {
          "base_uri": "https://localhost:8080/",
          "height": 170
        },
        "outputId": "ee22ff96-5942-4cb0-8633-2d2cafae3e27"
      },
      "source": [
        "df.head(1)"
      ],
      "execution_count": null,
      "outputs": [
        {
          "output_type": "execute_result",
          "data": {
            "text/html": [
              "<div>\n",
              "<style scoped>\n",
              "    .dataframe tbody tr th:only-of-type {\n",
              "        vertical-align: middle;\n",
              "    }\n",
              "\n",
              "    .dataframe tbody tr th {\n",
              "        vertical-align: top;\n",
              "    }\n",
              "\n",
              "    .dataframe thead th {\n",
              "        text-align: right;\n",
              "    }\n",
              "</style>\n",
              "<table border=\"1\" class=\"dataframe\">\n",
              "  <thead>\n",
              "    <tr style=\"text-align: right;\">\n",
              "      <th></th>\n",
              "      <th>popularity</th>\n",
              "      <th>budget</th>\n",
              "      <th>revenue</th>\n",
              "      <th>original_title</th>\n",
              "      <th>cast</th>\n",
              "      <th>director</th>\n",
              "      <th>runtime</th>\n",
              "      <th>genres</th>\n",
              "      <th>production_companies</th>\n",
              "      <th>release_date</th>\n",
              "      <th>vote_count</th>\n",
              "      <th>vote_average</th>\n",
              "      <th>release_year</th>\n",
              "    </tr>\n",
              "  </thead>\n",
              "  <tbody>\n",
              "    <tr>\n",
              "      <th>0</th>\n",
              "      <td>32.985763</td>\n",
              "      <td>150000000</td>\n",
              "      <td>1513528810</td>\n",
              "      <td>Jurassic World</td>\n",
              "      <td>Chris Pratt|Bryce Dallas Howard|Irrfan Khan|Vi...</td>\n",
              "      <td>Colin Trevorrow</td>\n",
              "      <td>124</td>\n",
              "      <td>Action|Adventure|Science Fiction|Thriller</td>\n",
              "      <td>Universal Studios|Amblin Entertainment|Legenda...</td>\n",
              "      <td>2015-06-09</td>\n",
              "      <td>5562</td>\n",
              "      <td>6.5</td>\n",
              "      <td>2015</td>\n",
              "    </tr>\n",
              "  </tbody>\n",
              "</table>\n",
              "</div>"
            ],
            "text/plain": [
              "   popularity     budget     revenue  ... vote_count vote_average release_year\n",
              "0   32.985763  150000000  1513528810  ...       5562          6.5         2015\n",
              "\n",
              "[1 rows x 13 columns]"
            ]
          },
          "metadata": {
            "tags": []
          },
          "execution_count": 26
        }
      ]
    },
    {
      "cell_type": "code",
      "metadata": {
        "id": "JovraNJi4H3p",
        "colab_type": "code",
        "colab": {}
      },
      "source": [
        "df.to_csv('clean_data.csv' ,index=False)"
      ],
      "execution_count": null,
      "outputs": []
    },
    {
      "cell_type": "markdown",
      "metadata": {
        "id": "g8y3g1nvihIB",
        "colab_type": "text"
      },
      "source": [
        "<a id='eda'></a>\n",
        "## Exploratory Data Analysis\n",
        "\n",
        "> **Tip**: Now that you've trimmed and cleaned your data, you're ready to move on to exploration. Compute statistics and create visualizations with the goal of addressing the research questions that you posed in the Introduction section. It is recommended that you be systematic with your approach. Look at one variable at a time, and then follow it up by looking at relationships between variables.\n",
        "\n",
        "### Research Question 1 (what is number of filw to director Colin Trevorrow )"
      ]
    },
    {
      "cell_type": "code",
      "metadata": {
        "id": "MV8hzLb30esS",
        "colab_type": "code",
        "colab": {
          "base_uri": "https://localhost:8080/",
          "height": 36
        },
        "outputId": "35ee1c12-2637-4d28-9917-24400e64fb81"
      },
      "source": [
        "data = df.query('director == \"Colin Trevorrow\"')\n",
        "print(\"number of films which director Colin Trevorrow make : \",len(data))"
      ],
      "execution_count": null,
      "outputs": [
        {
          "output_type": "stream",
          "text": [
            "number of films which director Colin Trevorrow make :  2\n"
          ],
          "name": "stdout"
        }
      ]
    },
    {
      "cell_type": "markdown",
      "metadata": {
        "id": "JYqKfBtBihIT",
        "colab_type": "text"
      },
      "source": [
        "### Research Question 2  (what is the best director have high revenue?)\n",
        "\n"
      ]
    },
    {
      "cell_type": "code",
      "metadata": {
        "id": "NAl0oci16478",
        "colab_type": "code",
        "colab": {
          "base_uri": "https://localhost:8080/",
          "height": 36
        },
        "outputId": "6249604b-bc92-4f82-a6ab-4d4e0d555c4d"
      },
      "source": [
        "x = []\n",
        "max_revenue = df.query(' revenue == revenue.max()')\n",
        "x = list(max_revenue['director'])\n",
        "print(\"the best director achieve large revenue is : \" ,x[0])\n"
      ],
      "execution_count": null,
      "outputs": [
        {
          "output_type": "stream",
          "text": [
            "the best director achieve large revenue is :  James Cameron\n"
          ],
          "name": "stdout"
        }
      ]
    },
    {
      "cell_type": "markdown",
      "metadata": {
        "id": "Cqm9Tued-zoe",
        "colab_type": "text"
      },
      "source": [
        "### Research Question 3 (what is the name of the film which have large run time?) "
      ]
    },
    {
      "cell_type": "code",
      "metadata": {
        "id": "e7nUAT6q_ClI",
        "colab_type": "code",
        "colab": {
          "base_uri": "https://localhost:8080/",
          "height": 36
        },
        "outputId": "e1f41582-19a1-4cb1-b133-9fddbcc51fd8"
      },
      "source": [
        "max_run_time = df[df['runtime'] == df['runtime'].max()]\n",
        "name = list(max_run_time['original_title'])\n",
        "print(\"the name of the film which have large run time is : \" ,name[0])\n",
        "\n"
      ],
      "execution_count": 39,
      "outputs": [
        {
          "output_type": "stream",
          "text": [
            "the name of the film which have large run time is :  Taken\n"
          ],
          "name": "stdout"
        }
      ]
    },
    {
      "cell_type": "markdown",
      "metadata": {
        "id": "pX7PX4o1EFeK",
        "colab_type": "text"
      },
      "source": [
        "### Research Question 4 (what is the high run time?) "
      ]
    },
    {
      "cell_type": "code",
      "metadata": {
        "id": "ja2SQToSEAf7",
        "colab_type": "code",
        "colab": {
          "base_uri": "https://localhost:8080/",
          "height": 36
        },
        "outputId": "06838691-7bbd-4621-ab49-79687b8e6e46"
      },
      "source": [
        "time = list(max_run_time['runtime'])\n",
        "print(\"the most film have large run time is : \" + str(time[0]) + \" minutes\")\n"
      ],
      "execution_count": 40,
      "outputs": [
        {
          "output_type": "stream",
          "text": [
            "the most film have large run time is : 877 minutes\n"
          ],
          "name": "stdout"
        }
      ]
    },
    {
      "cell_type": "code",
      "metadata": {
        "id": "tcRoZmuYAily",
        "colab_type": "code",
        "colab": {
          "base_uri": "https://localhost:8080/",
          "height": 36
        },
        "outputId": "46d6e2c1-01ba-499f-b19c-0497904a0cfb"
      },
      "source": [
        "df.runtime.max()"
      ],
      "execution_count": null,
      "outputs": [
        {
          "output_type": "execute_result",
          "data": {
            "text/plain": [
              "877"
            ]
          },
          "metadata": {
            "tags": []
          },
          "execution_count": 31
        }
      ]
    },
    {
      "cell_type": "code",
      "metadata": {
        "id": "1sTOQiDf28tl",
        "colab_type": "code",
        "colab": {
          "base_uri": "https://localhost:8080/",
          "height": 636
        },
        "outputId": "c0f3a2a4-51d8-49d4-a235-2daf3ba5a886"
      },
      "source": [
        "## split geners of films \n",
        "gener = df.genres.str.cat(sep='|')\n",
        "count = pd.Series(gener.split(sep = '|'))\n",
        "count1 = count.value_counts()\n",
        "graph = count1.plot.barh(color = 'red', fontsize = 15)\n",
        "graph.set(title = \"number of company && name of this \")\n",
        "graph.set_xlabel( \"count\" , color = 'black' ,fontsize='20' )\n",
        "graph.set_ylabel( \"geners\",color = 'green',fontsize ='20')\n",
        "graph.figure.set_size_inches(12, 10)\n",
        "plt.show()"
      ],
      "execution_count": null,
      "outputs": [
        {
          "output_type": "display_data",
          "data": {
            "image/png": "[encoded data removed]",
            "text/plain": [
              "<Figure size 864x720 with 1 Axes>"
            ]
          },
          "metadata": {
            "tags": [],
            "needs_background": "light"
          }
        }
      ]
    },
    {
      "cell_type": "markdown",
      "metadata": {
        "id": "lFJKbYEaP03E",
        "colab_type": "text"
      },
      "source": [
        "## i want to know correlation between column \n",
        "- 1 positive correlation \n",
        "\n",
        "- -1 negative coorelation \n",
        "\n",
        "- 0 symetric"
      ]
    },
    {
      "cell_type": "code",
      "metadata": {
        "id": "926TajJDPoSZ",
        "colab_type": "code",
        "colab": {}
      },
      "source": [
        "df.corr()"
      ],
      "execution_count": null,
      "outputs": []
    },
    {
      "cell_type": "markdown",
      "metadata": {
        "id": "-QbrFCNlQGhd",
        "colab_type": "text"
      },
      "source": [
        "## draw heatmap\n",
        "- confusion matrix between column\n",
        "\n",
        "- this heat map show correlation between column and another \n"
      ]
    },
    {
      "cell_type": "code",
      "metadata": {
        "id": "iCowQyR_QKY-",
        "colab_type": "code",
        "colab": {}
      },
      "source": [
        "fig, ax = plt.subplots(figsize=(15,10))         \n",
        "sns.heatmap(df.corr(), annot=True, fmt=\"f\",ax=ax)\n",
        "plt.title('correlation matrix for DataFrame')"
      ],
      "execution_count": null,
      "outputs": []
    },
    {
      "cell_type": "markdown",
      "metadata": {
        "id": "xz0VZH6MihIm",
        "colab_type": "text"
      },
      "source": [
        "<a id='conclusions'></a>\n",
        "## Conclusions\n",
        "\n",
        "### overview what happened in this project\n",
        "- first read data from link dataset (10000 row) with 21 column\n",
        "- i delete some column which i see it is un important \n",
        "- after this i fill value with nan value with (0)\n",
        "- drop duplicated data from csv file\n",
        "- check to there is no nan value in this column \n",
        "- after this i make some question and i answer to it \n",
        "\n"
      ]
    }
  ]
}